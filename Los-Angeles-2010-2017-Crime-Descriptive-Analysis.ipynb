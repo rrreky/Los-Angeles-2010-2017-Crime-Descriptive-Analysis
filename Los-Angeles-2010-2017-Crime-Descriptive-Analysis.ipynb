{
 "cells": [
  {
   "cell_type": "markdown",
   "metadata": {},
   "source": [
    "\n",
    "## Part 1 - Selection (30 points)\n",
    "\n",
    "Identify and describe your dataset, its source, and what appeals\n",
    "to you about it.  Acquire the data and perform an initial exploration\n",
    "to determine which themes you wish to explore.  Describe the questions\n",
    "you want to be able to answer with the data, any concerns you have\n",
    "about the data, and any challenges you expect to have to overcome.\n",
    "\n"
   ]
  },
  {
   "cell_type": "markdown",
   "metadata": {},
   "source": [
    "Answer: \n",
    "1.Source:\n",
    "  The dataset is released by the City of LA and be downloaled from Kaggle. \n",
    "  \n",
    "2. Why the dataset is appealing?\n",
    "   Los Angeles is a charming city with beautiful view, good food, diverse culture and lots of forms of entertainment. People enjoy traveling to the city to feel the sunshine and have some fun. However, it is also a city with crimes happened everyday just like other large city in the U.S. \n",
    "   So it is important for travelers to have some safety suggestions. To give good suggestions, we first need some knowledge about the crime structure in LA. And we find this data which is kind of clean and have enough variables for us to do a comprehensive analysis.  \n",
    "   \n",
    "3. Basic Description:\n",
    "This dataset also recorded 275068 of crime reports in LA,CA from 2010-2017. Every record has specific information about the crime with 26 variables. \n",
    "  \n",
    "\n",
    "3.According to the variables in the dataset, we are curious about several quesitons. These questions can be seperated into two types. \n",
    "    a. The Frequency Of The Crime. For example, which 5 kinds of crime happen most frequently? Which area is the most dangerous area in LA?  What time should people be more careful about possible happening crime? Which gender and age are more possible to be attacked?\n",
    "    b.The Relationship Between The Variables.. For example, what kinds of crime happen more frequently to Male or Female? For the top5 danagerous areas and day or night, what kinds of crime happen more and what weapon are used more? \n",
    "\n",
    "   To answer these question, we would like to do the Crime Frequency analysis from four factors which are Crime Timing, Area, Gender&Age of the Victim and Weapons & Premises. And since we are alsointerested in the relationship between the four foactors, we will also do some cross-analysis between these factors. \n",
    "\n",
    "4. Concern about the data:\n",
    "  \n",
    "   \n",
    "                      "
   ]
  },
  {
   "cell_type": "code",
   "execution_count": 1,
   "metadata": {},
   "outputs": [
    {
     "name": "stdout",
     "output_type": "stream",
     "text": [
      "--2018-12-10 02:46:53--  http://1994taoran.s3.amazonaws.com/Crime_Data_2010_2017.csv\n",
      "Resolving 1994taoran.s3.amazonaws.com (1994taoran.s3.amazonaws.com)... 52.216.108.67\n",
      "Connecting to 1994taoran.s3.amazonaws.com (1994taoran.s3.amazonaws.com)|52.216.108.67|:80... connected.\n",
      "HTTP request sent, awaiting response... 200 OK\n",
      "Length: 375258864 (358M) [text/csv]\n",
      "Saving to: ‘Crime_Data_2010_2017.csv’\n",
      "\n",
      "Crime_Data_2010_201 100%[===================>] 357.87M  42.3MB/s    in 8.0s    \n",
      "\n",
      "2018-12-10 02:47:01 (44.9 MB/s) - ‘Crime_Data_2010_2017.csv’ saved [375258864/375258864]\n",
      "\n"
     ]
    }
   ],
   "source": [
    "!wget --no-check-certificate --no-proxy 'http://1994taoran.s3.amazonaws.com/Crime_Data_2010_2017.csv'"
   ]
  },
  {
   "cell_type": "code",
   "execution_count": 2,
   "metadata": {},
   "outputs": [],
   "source": [
    "!mv Crime_Data_2010_2017.csv mydata.csv"
   ]
  },
  {
   "cell_type": "code",
   "execution_count": 3,
   "metadata": {},
   "outputs": [
    {
     "name": "stdout",
     "output_type": "stream",
     "text": [
      "1584317 mydata.csv\n"
     ]
    }
   ],
   "source": [
    "!wc -l mydata.csv"
   ]
  },
  {
   "cell_type": "code",
   "execution_count": 4,
   "metadata": {},
   "outputs": [
    {
     "name": "stdout",
     "output_type": "stream",
     "text": [
      "  1: DR Number\n",
      "  2: Date Reported\n",
      "  3: Date Occurred\n",
      "  4: Time Occurred\n",
      "  5: Area ID\n",
      "  6: Area Name\n",
      "  7: Reporting District\n",
      "  8: Crime Code\n",
      "  9: Crime Code Description\n",
      " 10: MO Codes\n",
      " 11: Victim Age\n",
      " 12: Victim Sex\n",
      " 13: Victim Descent\n",
      " 14: Premise Code\n",
      " 15: Premise Description\n",
      " 16: Weapon Used Code\n",
      " 17: Weapon Description\n",
      " 18: Status Code\n",
      " 19: Status Description\n",
      " 20: Crime Code 1\n",
      " 21: Crime Code 2\n",
      " 22: Crime Code 3\n",
      " 23: Crime Code 4\n",
      " 24: Address\n",
      " 25: Cross Street\n",
      " 26: Location \n"
     ]
    }
   ],
   "source": [
    "!csvcut -n mydata.csv"
   ]
  },
  {
   "cell_type": "code",
   "execution_count": 5,
   "metadata": {},
   "outputs": [
    {
     "name": "stdout",
     "output_type": "stream",
     "text": [
      "  1. \"DR Number\"\n",
      "\n",
      "\tType of data:          Number\n",
      "\tContains null values:  False\n",
      "\tUnique values:         9999\n",
      "\tSmallest value:        418\n",
      "\tLargest value:         172,112,198\n",
      "\tSum:                   1,270,394,203,857\n",
      "\tMean:                  127,052,125.598\n",
      "\tMedian:                130,116,297\n",
      "\tStDev:                 9,104,803.146\n",
      "\tMost common values:    1,208,575 (1x)\n",
      "\t                       102,005,556 (1x)\n",
      "\t                       418 (1x)\n",
      "\t                       101,822,289 (1x)\n",
      "\t                       42,104,479 (1x)\n",
      "\n",
      "  2. \"Date Reported\"\n",
      "\n",
      "\tType of data:          Date\n",
      "\tContains null values:  False\n",
      "\tUnique values:         733\n",
      "\tSmallest value:        2010-01-01\n",
      "\tLargest value:         2017-05-24\n",
      "\tMost common values:    2013-01-22 (58x)\n",
      "\t                       2013-02-25 (56x)\n",
      "\t                       2013-02-22 (54x)\n",
      "\t                       2013-03-03 (54x)\n",
      "\t                       2013-03-07 (51x)\n",
      "\n",
      "  3. \"Date Occurred\"\n",
      "\n",
      "\tType of data:          Date\n",
      "\tContains null values:  False\n",
      "\tUnique values:         712\n",
      "\tSmallest value:        2010-01-01\n",
      "\tLargest value:         2014-01-04\n",
      "\tMost common values:    2013-02-01 (52x)\n",
      "\t                       2013-01-22 (51x)\n",
      "\t                       2013-02-14 (51x)\n",
      "\t                       2013-01-21 (50x)\n",
      "\t                       2013-03-03 (50x)\n",
      "\n",
      "  4. \"Time Occurred\"\n",
      "\n",
      "\tType of data:          Number\n",
      "\tContains null values:  False\n",
      "\tUnique values:         458\n",
      "\tSmallest value:        1\n",
      "\tLargest value:         2,359\n",
      "\tSum:                   13,742,854\n",
      "\tMean:                  1,374.423\n",
      "\tMedian:                1,445\n",
      "\tStDev:                 649.972\n",
      "\tMost common values:    1,200 (306x)\n",
      "\t                       1,800 (267x)\n",
      "\t                       2,000 (256x)\n",
      "\t                       2,100 (241x)\n",
      "\t                       1,700 (241x)\n",
      "\n",
      "  5. \"Area ID\"\n",
      "\n",
      "\tType of data:          Number\n",
      "\tContains null values:  False\n",
      "\tUnique values:         18\n",
      "\tSmallest value:        1\n",
      "\tLargest value:         21\n",
      "\tSum:                   27,971\n",
      "\tMean:                  2.797\n",
      "\tMedian:                1\n",
      "\tStDev:                 4.684\n",
      "\tMost common values:    1 (7354x)\n",
      "\t                       2 (1493x)\n",
      "\t                       13 (167x)\n",
      "\t                       19 (124x)\n",
      "\t                       14 (122x)\n",
      "\n",
      "  6. \"Area Name\"\n",
      "\n",
      "\tType of data:          Text\n",
      "\tContains null values:  False\n",
      "\tUnique values:         18\n",
      "\tLongest value:         11 characters\n",
      "\tMost common values:    Central (7354x)\n",
      "\t                       Rampart (1493x)\n",
      "\t                       Newton (167x)\n",
      "\t                       Mission (124x)\n",
      "\t                       Pacific (122x)\n",
      "\n",
      "  7. \"Reporting District\"\n",
      "\n",
      "\tType of data:          Number\n",
      "\tContains null values:  False\n",
      "\tUnique values:         557\n",
      "\tSmallest value:        101\n",
      "\tLargest value:         2,198\n",
      "\tSum:                   3,311,706\n",
      "\tMean:                  331.204\n",
      "\tMedian:                162\n",
      "\tStDev:                 466.861\n",
      "\tMost common values:    162 (482x)\n",
      "\t                       111 (457x)\n",
      "\t                       152 (413x)\n",
      "\t                       153 (364x)\n",
      "\t                       156 (326x)\n",
      "\n",
      "  8. \"Crime Code\"\n",
      "\n",
      "\tType of data:          Number\n",
      "\tContains null values:  False\n",
      "\tUnique values:         97\n",
      "\tSmallest value:        110\n",
      "\tLargest value:         956\n",
      "\tSum:                   5,221,684\n",
      "\tMean:                  522.221\n",
      "\tMedian:                510\n",
      "\tStDev:                 202.2\n",
      "\tMost common values:    624 (1396x)\n",
      "\t                       510 (1257x)\n",
      "\t                       440 (997x)\n",
      "\t                       330 (706x)\n",
      "\t                       210 (495x)\n",
      "\n",
      "  9. \"Crime Code Description\"\n",
      "\n",
      "\tType of data:          Text\n",
      "\tContains null values:  False\n",
      "\tUnique values:         97\n",
      "\tLongest value:         63 characters\n",
      "\tMost common values:    BATTERY - SIMPLE ASSAULT (1396x)\n",
      "\t                       VEHICLE - STOLEN (1257x)\n",
      "\t                       THEFT PLAIN - PETTY ($950 & UNDER) (997x)\n",
      "\t                       BURGLARY FROM VEHICLE (706x)\n",
      "\t                       ROBBERY (495x)\n",
      "\n",
      " 10. \"MO Codes\"\n",
      "\n",
      "\tType of data:          Text\n",
      "\tContains null values:  True (excluded from calculations)\n",
      "\tUnique values:         3611\n",
      "\tLongest value:         49 characters\n",
      "\tMost common values:    None (1630x)\n",
      "\t                       0344 (1188x)\n",
      "\t                       0329 (453x)\n",
      "\t                       0416 (415x)\n",
      "\t                       1501 (186x)\n",
      "\n",
      " 11. \"Victim Age\"\n",
      "\n",
      "\tType of data:          Number\n",
      "\tContains null values:  True (excluded from calculations)\n",
      "\tUnique values:         87\n",
      "\tSmallest value:        10\n",
      "\tLargest value:         99\n",
      "\tSum:                   315,107\n",
      "\tMean:                  36.786\n",
      "\tMedian:                35\n",
      "\tStDev:                 15.223\n",
      "\tMost common values:    None (1433x)\n",
      "\t                       12 (614x)\n",
      "\t                       23 (260x)\n",
      "\t                       24 (260x)\n",
      "\t                       26 (254x)\n",
      "\n",
      " 12. \"Victim Sex\"\n",
      "\n",
      "\tType of data:          Text\n",
      "\tContains null values:  True (excluded from calculations)\n",
      "\tUnique values:         5\n",
      "\tLongest value:         1 characters\n",
      "\tMost common values:    M (5217x)\n",
      "\t                       F (3440x)\n",
      "\t                       None (1332x)\n",
      "\t                       X (8x)\n",
      "\t                       H (2x)\n",
      "\n",
      " 13. \"Victim Descent\"\n",
      "\n",
      "\tType of data:          Text\n",
      "\tContains null values:  True (excluded from calculations)\n",
      "\tUnique values:         14\n",
      "\tLongest value:         1 characters\n",
      "\tMost common values:    H (3371x)\n",
      "\t                       B (1965x)\n",
      "\t                       W (1896x)\n",
      "\t                       None (1332x)\n",
      "\t                       O (1027x)\n",
      "\n",
      " 14. \"Premise Code\"\n",
      "\n",
      "\tType of data:          Number\n",
      "\tContains null values:  True (excluded from calculations)\n",
      "\tUnique values:         133\n",
      "\tSmallest value:        101\n",
      "\tLargest value:         811\n",
      "\tSum:                   2,721,704\n",
      "\tMean:                  272.252\n",
      "\tMedian:                122\n",
      "\tStDev:                 218.563\n",
      "\tMost common values:    101 (2386x)\n",
      "\t                       102 (1544x)\n",
      "\t                       502 (1233x)\n",
      "\t                       108 (766x)\n",
      "\t                       203 (620x)\n",
      "\n",
      " 15. \"Premise Description\"\n",
      "\n",
      "\tType of data:          Text\n",
      "\tContains null values:  True (excluded from calculations)\n",
      "\tUnique values:         133\n",
      "\tLongest value:         57 characters\n",
      "\tMost common values:    STREET (2386x)\n",
      "\t                       SIDEWALK (1544x)\n",
      "\t                       MULTI-UNIT DWELLING (APARTMENT, DUPLEX, ETC) (1233x)\n",
      "\t                       PARKING LOT (766x)\n",
      "\t                       OTHER BUSINESS (620x)\n",
      "\n",
      " 16. \"Weapon Used Code\"\n",
      "\n",
      "\tType of data:          Number\n",
      "\tContains null values:  True (excluded from calculations)\n",
      "\tUnique values:         60\n",
      "\tSmallest value:        101\n",
      "\tLargest value:         515\n",
      "\tSum:                   1,375,964\n",
      "\tMean:                  378.949\n",
      "\tMedian:                400\n",
      "\tStDev:                 98.528\n",
      "\tMost common values:    None (6368x)\n",
      "\t                       400 (2351x)\n",
      "\t                       511 (265x)\n",
      "\t                       500 (258x)\n",
      "\t                       207 (114x)\n",
      "\n",
      " 17. \"Weapon Description\"\n",
      "\n",
      "\tType of data:          Text\n",
      "\tContains null values:  True (excluded from calculations)\n",
      "\tUnique values:         60\n",
      "\tLongest value:         46 characters\n",
      "\tMost common values:    None (6368x)\n",
      "\t                       STRONG-ARM (HANDS, FIST, FEET OR BODILY FORCE) (2351x)\n",
      "\t                       VERBAL THREAT (265x)\n",
      "\t                       UNKNOWN WEAPON/OTHER WEAPON (258x)\n",
      "\t                       OTHER KNIFE (114x)\n",
      "\n",
      " 18. \"Status Code\"\n",
      "\n",
      "\tType of data:          Text\n",
      "\tContains null values:  False\n",
      "\tUnique values:         5\n",
      "\tLongest value:         2 characters\n",
      "\tMost common values:    IC (7817x)\n",
      "\t                       AO (1097x)\n",
      "\t                       AA (1014x)\n",
      "\t                       JA (67x)\n",
      "\t                       JO (4x)\n",
      "\n",
      " 19. \"Status Description\"\n",
      "\n",
      "\tType of data:          Text\n",
      "\tContains null values:  False\n",
      "\tUnique values:         5\n",
      "\tLongest value:         12 characters\n",
      "\tMost common values:    Invest Cont (7817x)\n",
      "\t                       Adult Other (1097x)\n",
      "\t                       Adult Arrest (1014x)\n",
      "\t                       Juv Arrest (67x)\n",
      "\t                       Juv Other (4x)\n",
      "\n",
      " 20. \"Crime Code 1\"\n",
      "\n",
      "\tType of data:          Number\n",
      "\tContains null values:  False\n",
      "\tUnique values:         97\n",
      "\tSmallest value:        110\n",
      "\tLargest value:         956\n",
      "\tSum:                   5,220,675\n",
      "\tMean:                  522.12\n",
      "\tMedian:                510\n",
      "\tStDev:                 202.169\n",
      "\tMost common values:    624 (1396x)\n",
      "\t                       510 (1257x)\n",
      "\t                       440 (998x)\n",
      "\t                       330 (706x)\n",
      "\t                       210 (495x)\n",
      "\n",
      " 21. \"Crime Code 2\"\n",
      "\n",
      "\tType of data:          Number\n",
      "\tContains null values:  True (excluded from calculations)\n",
      "\tUnique values:         22\n",
      "\tSmallest value:        251\n",
      "\tLargest value:         999\n",
      "\tSum:                   607,558\n",
      "\tMean:                  979.932\n",
      "\tMedian:                998\n",
      "\tStDev:                 85.944\n",
      "\tMost common values:    None (9379x)\n",
      "\t                       998 (563x)\n",
      "\t                       999 (17x)\n",
      "\t                       946 (7x)\n",
      "\t                       510 (5x)\n",
      "\n",
      " 22. \"Crime Code 3\"\n",
      "\n",
      "\tType of data:          Number\n",
      "\tContains null values:  True (excluded from calculations)\n",
      "\tUnique values:         2\n",
      "\tSmallest value:        998\n",
      "\tLargest value:         998\n",
      "\tSum:                   8,982\n",
      "\tMean:                  998\n",
      "\tMedian:                998\n",
      "\tStDev:                 0\n",
      "\tMost common values:    None (9990x)\n",
      "\t                       998 (9x)\n",
      "\n",
      " 23. \"Crime Code 4\"\n",
      "\n",
      "\tType of data:          Boolean\n",
      "\tContains null values:  True (excluded from calculations)\n",
      "\tUnique values:         1\n",
      "\tMost common values:    None (9999x)\n",
      "\n",
      " 24. \"Address\"\n",
      "\n",
      "\tType of data:          Text\n",
      "\tContains null values:  False\n",
      "\tUnique values:         2239\n",
      "\tLongest value:         40 characters\n",
      "\tMost common values:    5TH                          ST (258x)\n",
      "\t                       6TH                          ST (257x)\n",
      "\t                       7TH                          ST (181x)\n",
      "\t                       5TH (133x)\n",
      "\t                       700 W  7TH                          ST (130x)\n",
      "\n",
      " 25. \"Cross Street\"\n",
      "\n",
      "\tType of data:          Text\n",
      "\tContains null values:  True (excluded from calculations)\n",
      "\tUnique values:         603\n",
      "\tLongest value:         34 characters\n",
      "\tMost common values:    None (6692x)\n",
      "\t                       BROADWAY (130x)\n",
      "\t                       SAN PEDRO (123x)\n",
      "\t                       SAN JULIAN (83x)\n",
      "\t                       HILL                         ST (78x)\n",
      "\n",
      " 26. \"Location \"\n",
      "\n",
      "\tType of data:          Text\n",
      "\tContains null values:  False\n",
      "\tUnique values:         2296\n",
      "\tLongest value:         20 characters\n",
      "\tMost common values:    (34.0423, -118.2452) (254x)\n",
      "\t                       (34.048, -118.2577) (168x)\n",
      "\t                       (34.0446, -118.245) (161x)\n",
      "\t                       (34.0494, -118.2599) (133x)\n",
      "\t                       (34.0442, -118.2439) (129x)\n",
      "\n",
      "Row count: 9999\n"
     ]
    }
   ],
   "source": [
    "!head -n 10000 mydata.csv | csvstat"
   ]
  },
  {
   "cell_type": "markdown",
   "metadata": {},
   "source": [
    "## Part 2 - Wrangling (35 points)\n",
    "\n",
    "Based on what you found above, wrangle the data into a format\n",
    "suitable for analysis.  This may involve cleaning, filtering,\n",
    "merging, and modeling steps, any and all of which are valid for\n",
    "this project.  Describe your process as you proceed, and document\n",
    "any scripts, databases, or other models you develop.  Be specific\n",
    "about any key decisions to modify or remove data, how you overcame\n",
    "any challenges, and all assumptions you make about the meaning of\n",
    "variables and their values.\n",
    "\n",
    "Verify that your wrangling steps have succeeded (for example, if\n",
    "you loaded the data into a dimensional model, ensure that the fact\n",
    "table contains the right number of records)."
   ]
  },
  {
   "cell_type": "code",
   "execution_count": 6,
   "metadata": {},
   "outputs": [],
   "source": [
    "%load_ext sql"
   ]
  },
  {
   "cell_type": "code",
   "execution_count": 7,
   "metadata": {},
   "outputs": [],
   "source": [
    "!dropdb --if-exists -U student project4"
   ]
  },
  {
   "cell_type": "code",
   "execution_count": 8,
   "metadata": {},
   "outputs": [],
   "source": [
    "!createdb -U student project4"
   ]
  },
  {
   "cell_type": "code",
   "execution_count": 9,
   "metadata": {},
   "outputs": [
    {
     "data": {
      "text/plain": [
       "'Connected: student@project4'"
      ]
     },
     "execution_count": 9,
     "metadata": {},
     "output_type": "execute_result"
    }
   ],
   "source": [
    "%sql postgresql://student@/project4"
   ]
  },
  {
   "cell_type": "code",
   "execution_count": 10,
   "metadata": {},
   "outputs": [],
   "source": [
    "!sed -i '1s/DR Number/DR_Number/' mydata.csv\n",
    "!sed -i '1s/Date Reported/Date_Reported/' mydata.csv\n",
    "!sed -i '1s/Date Occurred/Date_Occurred/' mydata.csv\n",
    "!sed -i '1s/Time Occurred/Time_Occurred/' mydata.csv\n",
    "!sed -i '1s/Area ID/Area_ID/' mydata.csv\n",
    "!sed -i '1s/Area Name/Area_Name/' mydata.csv\n",
    "!sed -i '1s/Reporting District/Reporting_District/' mydata.csv\n",
    "!sed -i '1s/Crime Code/Crime_Code/' mydata.csv\n",
    "!sed -i '1s/Crime Code Description/CrimeCode_Description/' mydata.csv\n",
    "!sed -i '1s/Victim Sex/Victim_Sex/' mydata.csv\n",
    "!sed -i '1s/Victim Descent/Victim_Descent/' mydata.csv\n",
    "!sed -i '1s/Premise Code/Premise_Code/' mydata.csv\n",
    "!sed -i '1s/Premise Description/Premise_Description/' mydata.csv\n",
    "!sed -i '1s/Status Code/Status_Code/' mydata.csv\n",
    "!sed -i '1s/Status Description/Status_Description/' mydata.csv\n",
    "!sed -i '1s/Weapon Used Code/Weapon_Used_Code/' mydata.csv\n",
    "!sed -i '1s/Weapon Description/Weapon_Description/' mydata.csv\n",
    "!sed -i '1s/Victim Age/Victim_Age/' mydata.csv"
   ]
  },
  {
   "cell_type": "markdown",
   "metadata": {},
   "source": [
    "We delete some columns that are unnecessary"
   ]
  },
  {
   "cell_type": "code",
   "execution_count": 11,
   "metadata": {},
   "outputs": [],
   "source": [
    "!csvcut -c 1-9,11-13,16-19,26 mydata.csv > mydata_new.csv"
   ]
  },
  {
   "cell_type": "code",
   "execution_count": 12,
   "metadata": {},
   "outputs": [
    {
     "name": "stdout",
     "output_type": "stream",
     "text": [
      "1584317 mydata_new.csv\n"
     ]
    }
   ],
   "source": [
    "!wc -l mydata_new.csv"
   ]
  },
  {
   "cell_type": "code",
   "execution_count": 13,
   "metadata": {},
   "outputs": [
    {
     "name": "stdout",
     "output_type": "stream",
     "text": [
      "  1: DR_Number\n",
      "  2: Date_Reported\n",
      "  3: Date_Occurred\n",
      "  4: Time_Occurred\n",
      "  5: Area_ID\n",
      "  6: Area_Name\n",
      "  7: Reporting_District\n",
      "  8: Crime_Code\n",
      "  9: CrimeCode_Description\n",
      " 10: Victim_Age\n",
      " 11: Victim_Sex\n",
      " 12: Victim_Descent\n",
      " 13: Weapon_Used_Code\n",
      " 14: Weapon_Description\n",
      " 15: Status_Code\n",
      " 16: Status_Description\n",
      " 17: Location \n"
     ]
    }
   ],
   "source": [
    "!csvcut -n mydata_new.csv"
   ]
  },
  {
   "cell_type": "code",
   "execution_count": 14,
   "metadata": {},
   "outputs": [
    {
     "name": "stdout",
     "output_type": "stream",
     "text": [
      " * postgresql://student@/project4\n",
      "Done.\n",
      "Done.\n"
     ]
    },
    {
     "data": {
      "text/plain": [
       "[]"
      ]
     },
     "execution_count": 14,
     "metadata": {},
     "output_type": "execute_result"
    }
   ],
   "source": [
    "%%sql\n",
    "DROP TABLE IF EXISTS crime_facts;\n",
    "\n",
    "CREATE TABLE crime_facts (\n",
    "    DR_Number INTEGER NOT NULL,\n",
    "    Date_Reported DATE NOT NULL,\n",
    "    Date_Occurred DATE NOT NULL,\n",
    "    Time_Occurred VARCHAR(4),\n",
    "    Area_ID INTEGER NOT NULL,\n",
    "    Area_Name VARCHAR(600),\n",
    "    Reporting_District INTEGER,\n",
    "    Crime_Code INTEGER,\n",
    "    CrimeCode_Description VARCHAR(600),\n",
    "    Victim_Age FLOAT,\n",
    "    Victim_Sex VARCHAR(10),\n",
    "    Victim_Descent VARCHAR(10),\n",
    "    Weapon_Used_Code FLOAT,\n",
    "    Weapon_Description VARCHAR(500),\n",
    "    Status_Code VARCHAR(5),\n",
    "    Status_Description VARCHAR(500),\n",
    "    Location VARCHAR(100)\n",
    ")\n"
   ]
  },
  {
   "cell_type": "code",
   "execution_count": 15,
   "metadata": {},
   "outputs": [
    {
     "name": "stdout",
     "output_type": "stream",
     "text": [
      " * postgresql://student@/project4\n",
      "1584316 rows affected.\n"
     ]
    },
    {
     "data": {
      "text/plain": [
       "[]"
      ]
     },
     "execution_count": 15,
     "metadata": {},
     "output_type": "execute_result"
    }
   ],
   "source": [
    "%%sql\n",
    "COPY crime_facts FROM '/home/ubuntu/mydata_new.csv'\n",
    "CSV\n",
    "HEADER;"
   ]
  },
  {
   "cell_type": "code",
   "execution_count": 16,
   "metadata": {},
   "outputs": [
    {
     "name": "stdout",
     "output_type": "stream",
     "text": [
      " * postgresql://student@/project4\n",
      "10 rows affected.\n"
     ]
    },
    {
     "data": {
      "text/html": [
       "<table>\n",
       "    <tr>\n",
       "        <th>dr_number</th>\n",
       "        <th>date_reported</th>\n",
       "        <th>date_occurred</th>\n",
       "        <th>time_occurred</th>\n",
       "        <th>area_id</th>\n",
       "        <th>area_name</th>\n",
       "        <th>reporting_district</th>\n",
       "        <th>crime_code</th>\n",
       "        <th>crimecode_description</th>\n",
       "        <th>victim_age</th>\n",
       "        <th>victim_sex</th>\n",
       "        <th>victim_descent</th>\n",
       "        <th>weapon_used_code</th>\n",
       "        <th>weapon_description</th>\n",
       "        <th>status_code</th>\n",
       "        <th>status_description</th>\n",
       "        <th>location</th>\n",
       "    </tr>\n",
       "    <tr>\n",
       "        <td>1208575</td>\n",
       "        <td>2013-03-14</td>\n",
       "        <td>2013-03-11</td>\n",
       "        <td>1800</td>\n",
       "        <td>12</td>\n",
       "        <td>77th Street</td>\n",
       "        <td>1241</td>\n",
       "        <td>626</td>\n",
       "        <td>INTIMATE PARTNER - SIMPLE ASSAULT</td>\n",
       "        <td>30.0</td>\n",
       "        <td>F</td>\n",
       "        <td>W</td>\n",
       "        <td>400.0</td>\n",
       "        <td>STRONG-ARM (HANDS, FIST, FEET OR BODILY FORCE)</td>\n",
       "        <td>AO</td>\n",
       "        <td>Adult Other</td>\n",
       "        <td>(33.9829, -118.3338)</td>\n",
       "    </tr>\n",
       "    <tr>\n",
       "        <td>102005556</td>\n",
       "        <td>2010-01-25</td>\n",
       "        <td>2010-01-22</td>\n",
       "        <td>2300</td>\n",
       "        <td>20</td>\n",
       "        <td>Olympic</td>\n",
       "        <td>2071</td>\n",
       "        <td>510</td>\n",
       "        <td>VEHICLE - STOLEN</td>\n",
       "        <td>None</td>\n",
       "        <td>None</td>\n",
       "        <td>None</td>\n",
       "        <td>None</td>\n",
       "        <td>None</td>\n",
       "        <td>IC</td>\n",
       "        <td>Invest Cont</td>\n",
       "        <td>(34.0454, -118.3157)</td>\n",
       "    </tr>\n",
       "    <tr>\n",
       "        <td>418</td>\n",
       "        <td>2013-03-19</td>\n",
       "        <td>2013-03-18</td>\n",
       "        <td>2030</td>\n",
       "        <td>18</td>\n",
       "        <td>Southeast</td>\n",
       "        <td>1823</td>\n",
       "        <td>510</td>\n",
       "        <td>VEHICLE - STOLEN</td>\n",
       "        <td>12.0</td>\n",
       "        <td>None</td>\n",
       "        <td>None</td>\n",
       "        <td>None</td>\n",
       "        <td>None</td>\n",
       "        <td>IC</td>\n",
       "        <td>Invest Cont</td>\n",
       "        <td>(33.942, -118.2717)</td>\n",
       "    </tr>\n",
       "    <tr>\n",
       "        <td>101822289</td>\n",
       "        <td>2010-11-11</td>\n",
       "        <td>2010-11-10</td>\n",
       "        <td>1800</td>\n",
       "        <td>18</td>\n",
       "        <td>Southeast</td>\n",
       "        <td>1803</td>\n",
       "        <td>510</td>\n",
       "        <td>VEHICLE - STOLEN</td>\n",
       "        <td>None</td>\n",
       "        <td>None</td>\n",
       "        <td>None</td>\n",
       "        <td>None</td>\n",
       "        <td>None</td>\n",
       "        <td>IC</td>\n",
       "        <td>Invest Cont</td>\n",
       "        <td>(33.9572, -118.2717)</td>\n",
       "    </tr>\n",
       "    <tr>\n",
       "        <td>42104479</td>\n",
       "        <td>2014-01-11</td>\n",
       "        <td>2014-01-04</td>\n",
       "        <td>2300</td>\n",
       "        <td>21</td>\n",
       "        <td>Topanga</td>\n",
       "        <td>2133</td>\n",
       "        <td>745</td>\n",
       "        <td>VANDALISM - MISDEAMEANOR ($399 OR UNDER)</td>\n",
       "        <td>84.0</td>\n",
       "        <td>M</td>\n",
       "        <td>W</td>\n",
       "        <td>None</td>\n",
       "        <td>None</td>\n",
       "        <td>IC</td>\n",
       "        <td>Invest Cont</td>\n",
       "        <td>(34.2009, -118.6369)</td>\n",
       "    </tr>\n",
       "    <tr>\n",
       "        <td>120125367</td>\n",
       "        <td>2013-01-08</td>\n",
       "        <td>2013-01-08</td>\n",
       "        <td>1400</td>\n",
       "        <td>1</td>\n",
       "        <td>Central</td>\n",
       "        <td>111</td>\n",
       "        <td>110</td>\n",
       "        <td>CRIMINAL HOMICIDE</td>\n",
       "        <td>49.0</td>\n",
       "        <td>F</td>\n",
       "        <td>W</td>\n",
       "        <td>400.0</td>\n",
       "        <td>STRONG-ARM (HANDS, FIST, FEET OR BODILY FORCE)</td>\n",
       "        <td>AA</td>\n",
       "        <td>Adult Arrest</td>\n",
       "        <td>(34.0591, -118.2412)</td>\n",
       "    </tr>\n",
       "    <tr>\n",
       "        <td>101105609</td>\n",
       "        <td>2010-01-28</td>\n",
       "        <td>2010-01-27</td>\n",
       "        <td>2230</td>\n",
       "        <td>11</td>\n",
       "        <td>Northeast</td>\n",
       "        <td>1125</td>\n",
       "        <td>510</td>\n",
       "        <td>VEHICLE - STOLEN</td>\n",
       "        <td>None</td>\n",
       "        <td>None</td>\n",
       "        <td>None</td>\n",
       "        <td>None</td>\n",
       "        <td>None</td>\n",
       "        <td>IC</td>\n",
       "        <td>Invest Cont</td>\n",
       "        <td>(34.1211, -118.2048)</td>\n",
       "    </tr>\n",
       "    <tr>\n",
       "        <td>101620051</td>\n",
       "        <td>2010-11-11</td>\n",
       "        <td>2010-11-07</td>\n",
       "        <td>1600</td>\n",
       "        <td>16</td>\n",
       "        <td>Foothill</td>\n",
       "        <td>1641</td>\n",
       "        <td>510</td>\n",
       "        <td>VEHICLE - STOLEN</td>\n",
       "        <td>None</td>\n",
       "        <td>None</td>\n",
       "        <td>None</td>\n",
       "        <td>None</td>\n",
       "        <td>None</td>\n",
       "        <td>IC</td>\n",
       "        <td>Invest Cont</td>\n",
       "        <td>(34.241, -118.3987)</td>\n",
       "    </tr>\n",
       "    <tr>\n",
       "        <td>101910498</td>\n",
       "        <td>2010-04-07</td>\n",
       "        <td>2010-04-07</td>\n",
       "        <td>1600</td>\n",
       "        <td>19</td>\n",
       "        <td>Mission</td>\n",
       "        <td>1902</td>\n",
       "        <td>510</td>\n",
       "        <td>VEHICLE - STOLEN</td>\n",
       "        <td>None</td>\n",
       "        <td>None</td>\n",
       "        <td>None</td>\n",
       "        <td>None</td>\n",
       "        <td>None</td>\n",
       "        <td>IC</td>\n",
       "        <td>Invest Cont</td>\n",
       "        <td>(34.3147, -118.4589)</td>\n",
       "    </tr>\n",
       "    <tr>\n",
       "        <td>120908292</td>\n",
       "        <td>2013-03-29</td>\n",
       "        <td>2013-01-15</td>\n",
       "        <td>800</td>\n",
       "        <td>9</td>\n",
       "        <td>Van Nuys</td>\n",
       "        <td>904</td>\n",
       "        <td>668</td>\n",
       "        <td>EMBEZZLEMENT, GRAND THEFT ($950.01 &amp; OVER)</td>\n",
       "        <td>27.0</td>\n",
       "        <td>F</td>\n",
       "        <td>O</td>\n",
       "        <td>None</td>\n",
       "        <td>None</td>\n",
       "        <td>IC</td>\n",
       "        <td>Invest Cont</td>\n",
       "        <td>(34.2012, -118.4662)</td>\n",
       "    </tr>\n",
       "</table>"
      ],
      "text/plain": [
       "[(1208575, datetime.date(2013, 3, 14), datetime.date(2013, 3, 11), '1800', 12, '77th Street', 1241, 626, 'INTIMATE PARTNER - SIMPLE ASSAULT', 30.0, 'F', 'W', 400.0, 'STRONG-ARM (HANDS, FIST, FEET OR BODILY FORCE)', 'AO', 'Adult Other', '(33.9829, -118.3338)'),\n",
       " (102005556, datetime.date(2010, 1, 25), datetime.date(2010, 1, 22), '2300', 20, 'Olympic', 2071, 510, 'VEHICLE - STOLEN', None, None, None, None, None, 'IC', 'Invest Cont', '(34.0454, -118.3157)'),\n",
       " (418, datetime.date(2013, 3, 19), datetime.date(2013, 3, 18), '2030', 18, 'Southeast', 1823, 510, 'VEHICLE - STOLEN', 12.0, None, None, None, None, 'IC', 'Invest Cont', '(33.942, -118.2717)'),\n",
       " (101822289, datetime.date(2010, 11, 11), datetime.date(2010, 11, 10), '1800', 18, 'Southeast', 1803, 510, 'VEHICLE - STOLEN', None, None, None, None, None, 'IC', 'Invest Cont', '(33.9572, -118.2717)'),\n",
       " (42104479, datetime.date(2014, 1, 11), datetime.date(2014, 1, 4), '2300', 21, 'Topanga', 2133, 745, 'VANDALISM - MISDEAMEANOR ($399 OR UNDER)', 84.0, 'M', 'W', None, None, 'IC', 'Invest Cont', '(34.2009, -118.6369)'),\n",
       " (120125367, datetime.date(2013, 1, 8), datetime.date(2013, 1, 8), '1400', 1, 'Central', 111, 110, 'CRIMINAL HOMICIDE', 49.0, 'F', 'W', 400.0, 'STRONG-ARM (HANDS, FIST, FEET OR BODILY FORCE)', 'AA', 'Adult Arrest', '(34.0591, -118.2412)'),\n",
       " (101105609, datetime.date(2010, 1, 28), datetime.date(2010, 1, 27), '2230', 11, 'Northeast', 1125, 510, 'VEHICLE - STOLEN', None, None, None, None, None, 'IC', 'Invest Cont', '(34.1211, -118.2048)'),\n",
       " (101620051, datetime.date(2010, 11, 11), datetime.date(2010, 11, 7), '1600', 16, 'Foothill', 1641, 510, 'VEHICLE - STOLEN', None, None, None, None, None, 'IC', 'Invest Cont', '(34.241, -118.3987)'),\n",
       " (101910498, datetime.date(2010, 4, 7), datetime.date(2010, 4, 7), '1600', 19, 'Mission', 1902, 510, 'VEHICLE - STOLEN', None, None, None, None, None, 'IC', 'Invest Cont', '(34.3147, -118.4589)'),\n",
       " (120908292, datetime.date(2013, 3, 29), datetime.date(2013, 1, 15), '800', 9, 'Van Nuys', 904, 668, 'EMBEZZLEMENT, GRAND THEFT ($950.01 & OVER)', 27.0, 'F', 'O', None, None, 'IC', 'Invest Cont', '(34.2012, -118.4662)')]"
      ]
     },
     "execution_count": 16,
     "metadata": {},
     "output_type": "execute_result"
    }
   ],
   "source": [
    "%%sql\n",
    "SELECT * FROM crime_facts\n",
    "LIMIT 10"
   ]
  },
  {
   "cell_type": "code",
   "execution_count": 17,
   "metadata": {},
   "outputs": [
    {
     "name": "stdout",
     "output_type": "stream",
     "text": [
      " * postgresql://student@/project4\n",
      "Done.\n",
      "Done.\n"
     ]
    },
    {
     "data": {
      "text/plain": [
       "[]"
      ]
     },
     "execution_count": 17,
     "metadata": {},
     "output_type": "execute_result"
    }
   ],
   "source": [
    "%%sql\n",
    "DROP TABLE IF EXISTS location;\n",
    "\n",
    "CREATE TABLE location (\n",
    "    location_key SERIAL PRIMARY KEY,\n",
    "    location_id INTEGER NOT NULL,\n",
    "    name VARCHAR(600)\n",
    ");"
   ]
  },
  {
   "cell_type": "code",
   "execution_count": 18,
   "metadata": {},
   "outputs": [
    {
     "name": "stdout",
     "output_type": "stream",
     "text": [
      " * postgresql://student@/project4\n",
      "21 rows affected.\n"
     ]
    },
    {
     "data": {
      "text/plain": [
       "[]"
      ]
     },
     "execution_count": 18,
     "metadata": {},
     "output_type": "execute_result"
    }
   ],
   "source": [
    "%%sql\n",
    "INSERT INTO location (location_id, name)\n",
    "SELECT DISTINCT Area_ID, Area_Name\n",
    "FROM crime_facts;"
   ]
  },
  {
   "cell_type": "code",
   "execution_count": 19,
   "metadata": {},
   "outputs": [
    {
     "name": "stdout",
     "output_type": "stream",
     "text": [
      " * postgresql://student@/project4\n",
      "10 rows affected.\n"
     ]
    },
    {
     "data": {
      "text/html": [
       "<table>\n",
       "    <tr>\n",
       "        <th>location_key</th>\n",
       "        <th>location_id</th>\n",
       "        <th>name</th>\n",
       "    </tr>\n",
       "    <tr>\n",
       "        <td>1</td>\n",
       "        <td>1</td>\n",
       "        <td>Central</td>\n",
       "    </tr>\n",
       "    <tr>\n",
       "        <td>2</td>\n",
       "        <td>2</td>\n",
       "        <td>Rampart</td>\n",
       "    </tr>\n",
       "    <tr>\n",
       "        <td>3</td>\n",
       "        <td>3</td>\n",
       "        <td>Southwest</td>\n",
       "    </tr>\n",
       "    <tr>\n",
       "        <td>4</td>\n",
       "        <td>4</td>\n",
       "        <td>Hollenbeck</td>\n",
       "    </tr>\n",
       "    <tr>\n",
       "        <td>5</td>\n",
       "        <td>5</td>\n",
       "        <td>Harbor</td>\n",
       "    </tr>\n",
       "    <tr>\n",
       "        <td>6</td>\n",
       "        <td>6</td>\n",
       "        <td>Hollywood</td>\n",
       "    </tr>\n",
       "    <tr>\n",
       "        <td>7</td>\n",
       "        <td>7</td>\n",
       "        <td>Wilshire</td>\n",
       "    </tr>\n",
       "    <tr>\n",
       "        <td>8</td>\n",
       "        <td>8</td>\n",
       "        <td>West LA</td>\n",
       "    </tr>\n",
       "    <tr>\n",
       "        <td>9</td>\n",
       "        <td>9</td>\n",
       "        <td>Van Nuys</td>\n",
       "    </tr>\n",
       "    <tr>\n",
       "        <td>10</td>\n",
       "        <td>10</td>\n",
       "        <td>West Valley</td>\n",
       "    </tr>\n",
       "</table>"
      ],
      "text/plain": [
       "[(1, 1, 'Central'),\n",
       " (2, 2, 'Rampart'),\n",
       " (3, 3, 'Southwest'),\n",
       " (4, 4, 'Hollenbeck'),\n",
       " (5, 5, 'Harbor'),\n",
       " (6, 6, 'Hollywood'),\n",
       " (7, 7, 'Wilshire'),\n",
       " (8, 8, 'West LA'),\n",
       " (9, 9, 'Van Nuys'),\n",
       " (10, 10, 'West Valley')]"
      ]
     },
     "execution_count": 19,
     "metadata": {},
     "output_type": "execute_result"
    }
   ],
   "source": [
    "%%sql\n",
    "SELECT * FROM location\n",
    "LIMIT 10"
   ]
  },
  {
   "cell_type": "code",
   "execution_count": 20,
   "metadata": {},
   "outputs": [
    {
     "name": "stdout",
     "output_type": "stream",
     "text": [
      " * postgresql://student@/project4\n",
      "Done.\n"
     ]
    },
    {
     "data": {
      "text/plain": [
       "[]"
      ]
     },
     "execution_count": 20,
     "metadata": {},
     "output_type": "execute_result"
    }
   ],
   "source": [
    "%%sql\n",
    "ALTER TABLE crime_facts\n",
    "ADD COLUMN location_key INTEGER,\n",
    "ADD CONSTRAINT fk_location_key\n",
    "    FOREIGN KEY (location_key)\n",
    "    REFERENCES location (location_key);"
   ]
  },
  {
   "cell_type": "code",
   "execution_count": 21,
   "metadata": {},
   "outputs": [
    {
     "name": "stdout",
     "output_type": "stream",
     "text": [
      " * postgresql://student@/project4\n",
      "Done.\n",
      "Done.\n"
     ]
    },
    {
     "data": {
      "text/plain": [
       "[]"
      ]
     },
     "execution_count": 21,
     "metadata": {},
     "output_type": "execute_result"
    }
   ],
   "source": [
    "%%sql\n",
    "DROP INDEX IF EXISTS idx_location;\n",
    "\n",
    "CREATE INDEX idx_location ON location (location_id, name);"
   ]
  },
  {
   "cell_type": "code",
   "execution_count": 22,
   "metadata": {},
   "outputs": [
    {
     "name": "stdout",
     "output_type": "stream",
     "text": [
      " * postgresql://student@/project4\n",
      "1584316 rows affected.\n"
     ]
    },
    {
     "data": {
      "text/plain": [
       "[]"
      ]
     },
     "execution_count": 22,
     "metadata": {},
     "output_type": "execute_result"
    }
   ],
   "source": [
    "%%sql\n",
    "UPDATE crime_facts\n",
    "SET location_key = location.location_key\n",
    "FROM location\n",
    "WHERE crime_facts.Area_ID = location.location_id\n",
    "    AND crime_facts.Area_Name = location.name "
   ]
  },
  {
   "cell_type": "code",
   "execution_count": 23,
   "metadata": {},
   "outputs": [
    {
     "name": "stdout",
     "output_type": "stream",
     "text": [
      " * postgresql://student@/project4\n",
      "Done.\n",
      "Done.\n"
     ]
    },
    {
     "data": {
      "text/plain": [
       "[]"
      ]
     },
     "execution_count": 23,
     "metadata": {},
     "output_type": "execute_result"
    }
   ],
   "source": [
    "%%sql\n",
    "DROP TABLE IF EXISTS district;\n",
    "\n",
    "CREATE TABLE district (\n",
    "    district_key SERIAL PRIMARY KEY,\n",
    "    reporting_district INTEGER\n",
    ");"
   ]
  },
  {
   "cell_type": "code",
   "execution_count": 24,
   "metadata": {},
   "outputs": [
    {
     "name": "stdout",
     "output_type": "stream",
     "text": [
      " * postgresql://student@/project4\n",
      "1280 rows affected.\n"
     ]
    },
    {
     "data": {
      "text/plain": [
       "[]"
      ]
     },
     "execution_count": 24,
     "metadata": {},
     "output_type": "execute_result"
    }
   ],
   "source": [
    "%%sql\n",
    "INSERT INTO district (reporting_district)\n",
    "SELECT DISTINCT Reporting_District\n",
    "FROM crime_facts;"
   ]
  },
  {
   "cell_type": "code",
   "execution_count": 25,
   "metadata": {},
   "outputs": [
    {
     "name": "stdout",
     "output_type": "stream",
     "text": [
      " * postgresql://student@/project4\n",
      "10 rows affected.\n"
     ]
    },
    {
     "data": {
      "text/html": [
       "<table>\n",
       "    <tr>\n",
       "        <th>district_key</th>\n",
       "        <th>reporting_district</th>\n",
       "    </tr>\n",
       "    <tr>\n",
       "        <td>1</td>\n",
       "        <td>1548</td>\n",
       "    </tr>\n",
       "    <tr>\n",
       "        <td>2</td>\n",
       "        <td>251</td>\n",
       "    </tr>\n",
       "    <tr>\n",
       "        <td>3</td>\n",
       "        <td>2026</td>\n",
       "    </tr>\n",
       "    <tr>\n",
       "        <td>4</td>\n",
       "        <td>887</td>\n",
       "    </tr>\n",
       "    <tr>\n",
       "        <td>5</td>\n",
       "        <td>2024</td>\n",
       "    </tr>\n",
       "    <tr>\n",
       "        <td>6</td>\n",
       "        <td>264</td>\n",
       "    </tr>\n",
       "    <tr>\n",
       "        <td>7</td>\n",
       "        <td>802</td>\n",
       "    </tr>\n",
       "    <tr>\n",
       "        <td>8</td>\n",
       "        <td>1513</td>\n",
       "    </tr>\n",
       "    <tr>\n",
       "        <td>9</td>\n",
       "        <td>1209</td>\n",
       "    </tr>\n",
       "    <tr>\n",
       "        <td>10</td>\n",
       "        <td>2125</td>\n",
       "    </tr>\n",
       "</table>"
      ],
      "text/plain": [
       "[(1, 1548),\n",
       " (2, 251),\n",
       " (3, 2026),\n",
       " (4, 887),\n",
       " (5, 2024),\n",
       " (6, 264),\n",
       " (7, 802),\n",
       " (8, 1513),\n",
       " (9, 1209),\n",
       " (10, 2125)]"
      ]
     },
     "execution_count": 25,
     "metadata": {},
     "output_type": "execute_result"
    }
   ],
   "source": [
    "%%sql\n",
    "SELECT * FROM district\n",
    "LIMIT 10"
   ]
  },
  {
   "cell_type": "code",
   "execution_count": 26,
   "metadata": {},
   "outputs": [
    {
     "name": "stdout",
     "output_type": "stream",
     "text": [
      " * postgresql://student@/project4\n",
      "Done.\n"
     ]
    },
    {
     "data": {
      "text/plain": [
       "[]"
      ]
     },
     "execution_count": 26,
     "metadata": {},
     "output_type": "execute_result"
    }
   ],
   "source": [
    "%%sql\n",
    "ALTER TABLE crime_facts\n",
    "ADD COLUMN district_key INTEGER,\n",
    "ADD CONSTRAINT fk_district_key\n",
    "    FOREIGN KEY (district_key)\n",
    "    REFERENCES district (district_key);"
   ]
  },
  {
   "cell_type": "code",
   "execution_count": 27,
   "metadata": {},
   "outputs": [
    {
     "name": "stdout",
     "output_type": "stream",
     "text": [
      " * postgresql://student@/project4\n",
      "0 rows affected.\n"
     ]
    },
    {
     "data": {
      "text/plain": [
       "[]"
      ]
     },
     "execution_count": 27,
     "metadata": {},
     "output_type": "execute_result"
    }
   ],
   "source": [
    "%%sql\n",
    "UPDATE crime_facts\n",
    "SET Reporting_District = 0 \n",
    "WHERE Reporting_District IS NULL;"
   ]
  },
  {
   "cell_type": "code",
   "execution_count": 28,
   "metadata": {},
   "outputs": [
    {
     "name": "stdout",
     "output_type": "stream",
     "text": [
      " * postgresql://student@/project4\n",
      "0 rows affected.\n"
     ]
    },
    {
     "data": {
      "text/plain": [
       "[]"
      ]
     },
     "execution_count": 28,
     "metadata": {},
     "output_type": "execute_result"
    }
   ],
   "source": [
    "%%sql\n",
    "UPDATE district\n",
    "SET reporting_district = 0 \n",
    "WHERE reporting_district IS NULL;"
   ]
  },
  {
   "cell_type": "code",
   "execution_count": 29,
   "metadata": {},
   "outputs": [
    {
     "name": "stdout",
     "output_type": "stream",
     "text": [
      " * postgresql://student@/project4\n",
      "1584316 rows affected.\n"
     ]
    },
    {
     "data": {
      "text/plain": [
       "[]"
      ]
     },
     "execution_count": 29,
     "metadata": {},
     "output_type": "execute_result"
    }
   ],
   "source": [
    "%%sql\n",
    "UPDATE crime_facts\n",
    "SET district_key = district.district_key\n",
    "FROM district\n",
    "WHERE crime_facts.Reporting_District = district.reporting_district"
   ]
  },
  {
   "cell_type": "code",
   "execution_count": 30,
   "metadata": {},
   "outputs": [
    {
     "name": "stdout",
     "output_type": "stream",
     "text": [
      " * postgresql://student@/project4\n",
      "Done.\n",
      "Done.\n"
     ]
    },
    {
     "data": {
      "text/plain": [
       "[]"
      ]
     },
     "execution_count": 30,
     "metadata": {},
     "output_type": "execute_result"
    }
   ],
   "source": [
    "%%sql\n",
    "DROP TABLE IF EXISTS crime;\n",
    "\n",
    "CREATE TABLE crime (\n",
    "    crime_key SERIAL PRIMARY KEY,\n",
    "    code INTEGER,\n",
    "    description VARCHAR(600)\n",
    ");"
   ]
  },
  {
   "cell_type": "code",
   "execution_count": 31,
   "metadata": {},
   "outputs": [
    {
     "name": "stdout",
     "output_type": "stream",
     "text": [
      " * postgresql://student@/project4\n",
      "138 rows affected.\n"
     ]
    },
    {
     "data": {
      "text/plain": [
       "[]"
      ]
     },
     "execution_count": 31,
     "metadata": {},
     "output_type": "execute_result"
    }
   ],
   "source": [
    "%%sql\n",
    "INSERT INTO crime (code, description)\n",
    "SELECT DISTINCT Crime_Code, CrimeCode_Description\n",
    "FROM crime_facts;"
   ]
  },
  {
   "cell_type": "code",
   "execution_count": 32,
   "metadata": {},
   "outputs": [
    {
     "name": "stdout",
     "output_type": "stream",
     "text": [
      " * postgresql://student@/project4\n",
      "10 rows affected.\n"
     ]
    },
    {
     "data": {
      "text/html": [
       "<table>\n",
       "    <tr>\n",
       "        <th>crime_key</th>\n",
       "        <th>code</th>\n",
       "        <th>description</th>\n",
       "    </tr>\n",
       "    <tr>\n",
       "        <td>1</td>\n",
       "        <td>110</td>\n",
       "        <td>CRIMINAL HOMICIDE</td>\n",
       "    </tr>\n",
       "    <tr>\n",
       "        <td>2</td>\n",
       "        <td>113</td>\n",
       "        <td>MANSLAUGHTER, NEGLIGENT</td>\n",
       "    </tr>\n",
       "    <tr>\n",
       "        <td>3</td>\n",
       "        <td>121</td>\n",
       "        <td>RAPE, FORCIBLE</td>\n",
       "    </tr>\n",
       "    <tr>\n",
       "        <td>4</td>\n",
       "        <td>122</td>\n",
       "        <td>RAPE, ATTEMPTED</td>\n",
       "    </tr>\n",
       "    <tr>\n",
       "        <td>5</td>\n",
       "        <td>210</td>\n",
       "        <td>ROBBERY</td>\n",
       "    </tr>\n",
       "    <tr>\n",
       "        <td>6</td>\n",
       "        <td>220</td>\n",
       "        <td>ATTEMPTED ROBBERY</td>\n",
       "    </tr>\n",
       "    <tr>\n",
       "        <td>7</td>\n",
       "        <td>230</td>\n",
       "        <td>ASSAULT WITH DEADLY WEAPON, AGGRAVATED ASSAULT</td>\n",
       "    </tr>\n",
       "    <tr>\n",
       "        <td>8</td>\n",
       "        <td>231</td>\n",
       "        <td>ASSAULT WITH DEADLY WEAPON ON POLICE OFFICER</td>\n",
       "    </tr>\n",
       "    <tr>\n",
       "        <td>9</td>\n",
       "        <td>235</td>\n",
       "        <td>CHILD ABUSE (PHYSICAL) - AGGRAVATED ASSAULT</td>\n",
       "    </tr>\n",
       "    <tr>\n",
       "        <td>10</td>\n",
       "        <td>236</td>\n",
       "        <td>INTIMATE PARTNER - AGGRAVATED ASSAULT</td>\n",
       "    </tr>\n",
       "</table>"
      ],
      "text/plain": [
       "[(1, 110, 'CRIMINAL HOMICIDE'),\n",
       " (2, 113, 'MANSLAUGHTER, NEGLIGENT'),\n",
       " (3, 121, 'RAPE, FORCIBLE'),\n",
       " (4, 122, 'RAPE, ATTEMPTED'),\n",
       " (5, 210, 'ROBBERY'),\n",
       " (6, 220, 'ATTEMPTED ROBBERY'),\n",
       " (7, 230, 'ASSAULT WITH DEADLY WEAPON, AGGRAVATED ASSAULT'),\n",
       " (8, 231, 'ASSAULT WITH DEADLY WEAPON ON POLICE OFFICER'),\n",
       " (9, 235, 'CHILD ABUSE (PHYSICAL) - AGGRAVATED ASSAULT'),\n",
       " (10, 236, 'INTIMATE PARTNER - AGGRAVATED ASSAULT')]"
      ]
     },
     "execution_count": 32,
     "metadata": {},
     "output_type": "execute_result"
    }
   ],
   "source": [
    "%%sql\n",
    "SELECT * FROM crime\n",
    "LIMIT 10"
   ]
  },
  {
   "cell_type": "code",
   "execution_count": 33,
   "metadata": {},
   "outputs": [
    {
     "name": "stdout",
     "output_type": "stream",
     "text": [
      " * postgresql://student@/project4\n",
      "Done.\n"
     ]
    },
    {
     "data": {
      "text/plain": [
       "[]"
      ]
     },
     "execution_count": 33,
     "metadata": {},
     "output_type": "execute_result"
    }
   ],
   "source": [
    "%%sql\n",
    "ALTER TABLE crime_facts\n",
    "ADD COLUMN crime_key INTEGER,\n",
    "ADD CONSTRAINT fk_crime_key\n",
    "    FOREIGN KEY (crime_key)\n",
    "    REFERENCES crime (crime_key);"
   ]
  },
  {
   "cell_type": "code",
   "execution_count": 34,
   "metadata": {},
   "outputs": [
    {
     "name": "stdout",
     "output_type": "stream",
     "text": [
      " * postgresql://student@/project4\n",
      "Done.\n",
      "Done.\n"
     ]
    },
    {
     "data": {
      "text/plain": [
       "[]"
      ]
     },
     "execution_count": 34,
     "metadata": {},
     "output_type": "execute_result"
    }
   ],
   "source": [
    "%%sql\n",
    "DROP INDEX IF EXISTS idx_crime;\n",
    "\n",
    "CREATE INDEX idx_crime ON crime (code, description);"
   ]
  },
  {
   "cell_type": "code",
   "execution_count": 35,
   "metadata": {},
   "outputs": [
    {
     "name": "stdout",
     "output_type": "stream",
     "text": [
      " * postgresql://student@/project4\n",
      "0 rows affected.\n",
      "412 rows affected.\n"
     ]
    },
    {
     "data": {
      "text/plain": [
       "[]"
      ]
     },
     "execution_count": 35,
     "metadata": {},
     "output_type": "execute_result"
    }
   ],
   "source": [
    "%%sql\n",
    "UPDATE crime_facts\n",
    "SET Crime_Code = 0 \n",
    "WHERE Crime_Code IS NULL;\n",
    "\n",
    "UPDATE crime_facts\n",
    "SET CrimeCode_Description = '' \n",
    "WHERE CrimeCode_Description IS NULL;"
   ]
  },
  {
   "cell_type": "code",
   "execution_count": 36,
   "metadata": {},
   "outputs": [
    {
     "name": "stdout",
     "output_type": "stream",
     "text": [
      " * postgresql://student@/project4\n",
      "0 rows affected.\n",
      "4 rows affected.\n"
     ]
    },
    {
     "data": {
      "text/plain": [
       "[]"
      ]
     },
     "execution_count": 36,
     "metadata": {},
     "output_type": "execute_result"
    }
   ],
   "source": [
    "%%sql\n",
    "UPDATE crime\n",
    "SET code = 0\n",
    "WHERE code IS NULL;\n",
    "\n",
    "UPDATE crime\n",
    "SET description = '' \n",
    "WHERE description IS NULL;"
   ]
  },
  {
   "cell_type": "code",
   "execution_count": 37,
   "metadata": {},
   "outputs": [
    {
     "name": "stdout",
     "output_type": "stream",
     "text": [
      " * postgresql://student@/project4\n",
      "1584316 rows affected.\n"
     ]
    },
    {
     "data": {
      "text/plain": [
       "[]"
      ]
     },
     "execution_count": 37,
     "metadata": {},
     "output_type": "execute_result"
    }
   ],
   "source": [
    "%%sql\n",
    "UPDATE crime_facts\n",
    "SET crime_key = crime.crime_key\n",
    "FROM crime\n",
    "WHERE crime_facts.Crime_Code = crime.code\n",
    "    AND crime_facts.CrimeCode_Description = crime.description"
   ]
  },
  {
   "cell_type": "code",
   "execution_count": 38,
   "metadata": {},
   "outputs": [
    {
     "name": "stdout",
     "output_type": "stream",
     "text": [
      " * postgresql://student@/project4\n",
      "Done.\n",
      "Done.\n"
     ]
    },
    {
     "data": {
      "text/plain": [
       "[]"
      ]
     },
     "execution_count": 38,
     "metadata": {},
     "output_type": "execute_result"
    }
   ],
   "source": [
    "%%sql\n",
    "DROP TABLE IF EXISTS victim;\n",
    "\n",
    "CREATE TABLE victim (\n",
    "    victim_key SERIAL PRIMARY KEY,\n",
    "    age FLOAT,\n",
    "    sex VARCHAR(10),\n",
    "    descent VARCHAR(10)\n",
    ");"
   ]
  },
  {
   "cell_type": "code",
   "execution_count": 39,
   "metadata": {},
   "outputs": [
    {
     "name": "stdout",
     "output_type": "stream",
     "text": [
      " * postgresql://student@/project4\n",
      "2333 rows affected.\n"
     ]
    },
    {
     "data": {
      "text/plain": [
       "[]"
      ]
     },
     "execution_count": 39,
     "metadata": {},
     "output_type": "execute_result"
    }
   ],
   "source": [
    "%%sql\n",
    "INSERT INTO victim (age, sex, descent)\n",
    "SELECT DISTINCT Victim_Age, Victim_Sex, Victim_Descent\n",
    "FROM crime_facts;"
   ]
  },
  {
   "cell_type": "code",
   "execution_count": 40,
   "metadata": {},
   "outputs": [
    {
     "name": "stdout",
     "output_type": "stream",
     "text": [
      " * postgresql://student@/project4\n",
      "10 rows affected.\n"
     ]
    },
    {
     "data": {
      "text/html": [
       "<table>\n",
       "    <tr>\n",
       "        <th>victim_key</th>\n",
       "        <th>age</th>\n",
       "        <th>sex</th>\n",
       "        <th>descent</th>\n",
       "    </tr>\n",
       "    <tr>\n",
       "        <td>1</td>\n",
       "        <td>10.0</td>\n",
       "        <td>F</td>\n",
       "        <td>A</td>\n",
       "    </tr>\n",
       "    <tr>\n",
       "        <td>2</td>\n",
       "        <td>10.0</td>\n",
       "        <td>F</td>\n",
       "        <td>B</td>\n",
       "    </tr>\n",
       "    <tr>\n",
       "        <td>3</td>\n",
       "        <td>10.0</td>\n",
       "        <td>F</td>\n",
       "        <td>F</td>\n",
       "    </tr>\n",
       "    <tr>\n",
       "        <td>4</td>\n",
       "        <td>10.0</td>\n",
       "        <td>F</td>\n",
       "        <td>H</td>\n",
       "    </tr>\n",
       "    <tr>\n",
       "        <td>5</td>\n",
       "        <td>10.0</td>\n",
       "        <td>F</td>\n",
       "        <td>K</td>\n",
       "    </tr>\n",
       "    <tr>\n",
       "        <td>6</td>\n",
       "        <td>10.0</td>\n",
       "        <td>F</td>\n",
       "        <td>O</td>\n",
       "    </tr>\n",
       "    <tr>\n",
       "        <td>7</td>\n",
       "        <td>10.0</td>\n",
       "        <td>F</td>\n",
       "        <td>P</td>\n",
       "    </tr>\n",
       "    <tr>\n",
       "        <td>8</td>\n",
       "        <td>10.0</td>\n",
       "        <td>F</td>\n",
       "        <td>U</td>\n",
       "    </tr>\n",
       "    <tr>\n",
       "        <td>9</td>\n",
       "        <td>10.0</td>\n",
       "        <td>F</td>\n",
       "        <td>W</td>\n",
       "    </tr>\n",
       "    <tr>\n",
       "        <td>10</td>\n",
       "        <td>10.0</td>\n",
       "        <td>F</td>\n",
       "        <td>X</td>\n",
       "    </tr>\n",
       "</table>"
      ],
      "text/plain": [
       "[(1, 10.0, 'F', 'A'),\n",
       " (2, 10.0, 'F', 'B'),\n",
       " (3, 10.0, 'F', 'F'),\n",
       " (4, 10.0, 'F', 'H'),\n",
       " (5, 10.0, 'F', 'K'),\n",
       " (6, 10.0, 'F', 'O'),\n",
       " (7, 10.0, 'F', 'P'),\n",
       " (8, 10.0, 'F', 'U'),\n",
       " (9, 10.0, 'F', 'W'),\n",
       " (10, 10.0, 'F', 'X')]"
      ]
     },
     "execution_count": 40,
     "metadata": {},
     "output_type": "execute_result"
    }
   ],
   "source": [
    "%%sql\n",
    "SELECT * FROM victim\n",
    "LIMIT 10"
   ]
  },
  {
   "cell_type": "code",
   "execution_count": 41,
   "metadata": {},
   "outputs": [
    {
     "name": "stdout",
     "output_type": "stream",
     "text": [
      " * postgresql://student@/project4\n",
      "Done.\n"
     ]
    },
    {
     "data": {
      "text/plain": [
       "[]"
      ]
     },
     "execution_count": 41,
     "metadata": {},
     "output_type": "execute_result"
    }
   ],
   "source": [
    "%%sql\n",
    "ALTER TABLE crime_facts\n",
    "ADD COLUMN victim_key INTEGER,\n",
    "ADD CONSTRAINT fk_victim_key\n",
    "    FOREIGN KEY (victim_key)\n",
    "    REFERENCES victim (victim_key);"
   ]
  },
  {
   "cell_type": "code",
   "execution_count": 42,
   "metadata": {},
   "outputs": [
    {
     "name": "stdout",
     "output_type": "stream",
     "text": [
      " * postgresql://student@/project4\n",
      "Done.\n",
      "Done.\n"
     ]
    },
    {
     "data": {
      "text/plain": [
       "[]"
      ]
     },
     "execution_count": 42,
     "metadata": {},
     "output_type": "execute_result"
    }
   ],
   "source": [
    "%%sql\n",
    "DROP INDEX IF EXISTS idx_victim;\n",
    "\n",
    "CREATE INDEX idx_victim ON victim (age, sex, descent);"
   ]
  },
  {
   "cell_type": "code",
   "execution_count": 43,
   "metadata": {},
   "outputs": [
    {
     "name": "stdout",
     "output_type": "stream",
     "text": [
      " * postgresql://student@/project4\n",
      "128659 rows affected.\n",
      "145199 rows affected.\n",
      "145232 rows affected.\n"
     ]
    },
    {
     "data": {
      "text/plain": [
       "[]"
      ]
     },
     "execution_count": 43,
     "metadata": {},
     "output_type": "execute_result"
    }
   ],
   "source": [
    "%%sql\n",
    "UPDATE crime_facts\n",
    "SET Victim_Age = 0\n",
    "WHERE Victim_Age IS NULL;\n",
    "\n",
    "UPDATE crime_facts\n",
    "SET Victim_Sex = '' \n",
    "WHERE Victim_Sex IS NULL;\n",
    "\n",
    "UPDATE crime_facts\n",
    "SET Victim_Descent = '' \n",
    "WHERE Victim_Descent IS NULL;"
   ]
  },
  {
   "cell_type": "code",
   "execution_count": 44,
   "metadata": {},
   "outputs": [
    {
     "name": "stdout",
     "output_type": "stream",
     "text": [
      " * postgresql://student@/project4\n",
      "47 rows affected.\n",
      "41 rows affected.\n",
      "63 rows affected.\n"
     ]
    },
    {
     "data": {
      "text/plain": [
       "[]"
      ]
     },
     "execution_count": 44,
     "metadata": {},
     "output_type": "execute_result"
    }
   ],
   "source": [
    "%%sql\n",
    "UPDATE victim\n",
    "SET age = 0 \n",
    "WHERE age IS NULL;\n",
    "\n",
    "UPDATE victim\n",
    "SET sex = ''\n",
    "WHERE sex IS NULL;\n",
    "\n",
    "UPDATE victim\n",
    "SET descent = '' \n",
    "WHERE descent IS NULL;"
   ]
  },
  {
   "cell_type": "code",
   "execution_count": 45,
   "metadata": {},
   "outputs": [
    {
     "name": "stdout",
     "output_type": "stream",
     "text": [
      " * postgresql://student@/project4\n",
      "1584316 rows affected.\n"
     ]
    },
    {
     "data": {
      "text/plain": [
       "[]"
      ]
     },
     "execution_count": 45,
     "metadata": {},
     "output_type": "execute_result"
    }
   ],
   "source": [
    "%%sql\n",
    "UPDATE crime_facts\n",
    "SET victim_key = victim.victim_key\n",
    "FROM victim\n",
    "WHERE crime_facts.Victim_Age = victim.age\n",
    "    AND crime_facts.Victim_Sex = victim.sex\n",
    "    AND crime_facts.Victim_Descent = victim.descent"
   ]
  },
  {
   "cell_type": "code",
   "execution_count": 46,
   "metadata": {},
   "outputs": [
    {
     "name": "stdout",
     "output_type": "stream",
     "text": [
      " * postgresql://student@/project4\n",
      "Done.\n",
      "Done.\n"
     ]
    },
    {
     "data": {
      "text/plain": [
       "[]"
      ]
     },
     "execution_count": 46,
     "metadata": {},
     "output_type": "execute_result"
    }
   ],
   "source": [
    "%%sql\n",
    "DROP TABLE IF EXISTS weapon;\n",
    "\n",
    "CREATE TABLE weapon (\n",
    "    weapon_key SERIAL PRIMARY KEY,\n",
    "    code FLOAT,\n",
    "    description VARCHAR(500)\n",
    ");"
   ]
  },
  {
   "cell_type": "code",
   "execution_count": 47,
   "metadata": {},
   "outputs": [
    {
     "name": "stdout",
     "output_type": "stream",
     "text": [
      " * postgresql://student@/project4\n",
      "81 rows affected.\n"
     ]
    },
    {
     "data": {
      "text/plain": [
       "[]"
      ]
     },
     "execution_count": 47,
     "metadata": {},
     "output_type": "execute_result"
    }
   ],
   "source": [
    "%%sql\n",
    "INSERT INTO weapon (code,description)\n",
    "SELECT DISTINCT Weapon_Used_Code, Weapon_Description\n",
    "FROM crime_facts;"
   ]
  },
  {
   "cell_type": "code",
   "execution_count": 48,
   "metadata": {},
   "outputs": [
    {
     "name": "stdout",
     "output_type": "stream",
     "text": [
      " * postgresql://student@/project4\n",
      "10 rows affected.\n"
     ]
    },
    {
     "data": {
      "text/html": [
       "<table>\n",
       "    <tr>\n",
       "        <th>weapon_key</th>\n",
       "        <th>code</th>\n",
       "        <th>description</th>\n",
       "    </tr>\n",
       "    <tr>\n",
       "        <td>1</td>\n",
       "        <td>101.0</td>\n",
       "        <td>REVOLVER</td>\n",
       "    </tr>\n",
       "    <tr>\n",
       "        <td>2</td>\n",
       "        <td>102.0</td>\n",
       "        <td>HAND GUN</td>\n",
       "    </tr>\n",
       "    <tr>\n",
       "        <td>3</td>\n",
       "        <td>103.0</td>\n",
       "        <td>RIFLE</td>\n",
       "    </tr>\n",
       "    <tr>\n",
       "        <td>4</td>\n",
       "        <td>104.0</td>\n",
       "        <td>SHOTGUN</td>\n",
       "    </tr>\n",
       "    <tr>\n",
       "        <td>5</td>\n",
       "        <td>105.0</td>\n",
       "        <td>SAWED OFF RIFLE/SHOTGUN</td>\n",
       "    </tr>\n",
       "    <tr>\n",
       "        <td>6</td>\n",
       "        <td>106.0</td>\n",
       "        <td>UNKNOWN FIREARM</td>\n",
       "    </tr>\n",
       "    <tr>\n",
       "        <td>7</td>\n",
       "        <td>107.0</td>\n",
       "        <td>OTHER FIREARM</td>\n",
       "    </tr>\n",
       "    <tr>\n",
       "        <td>8</td>\n",
       "        <td>108.0</td>\n",
       "        <td>AUTOMATIC WEAPON/SUB-MACHINE GUN</td>\n",
       "    </tr>\n",
       "    <tr>\n",
       "        <td>9</td>\n",
       "        <td>109.0</td>\n",
       "        <td>SEMI-AUTOMATIC PISTOL</td>\n",
       "    </tr>\n",
       "    <tr>\n",
       "        <td>10</td>\n",
       "        <td>110.0</td>\n",
       "        <td>SEMI-AUTOMATIC RIFLE</td>\n",
       "    </tr>\n",
       "</table>"
      ],
      "text/plain": [
       "[(1, 101.0, 'REVOLVER'),\n",
       " (2, 102.0, 'HAND GUN'),\n",
       " (3, 103.0, 'RIFLE'),\n",
       " (4, 104.0, 'SHOTGUN'),\n",
       " (5, 105.0, 'SAWED OFF RIFLE/SHOTGUN'),\n",
       " (6, 106.0, 'UNKNOWN FIREARM'),\n",
       " (7, 107.0, 'OTHER FIREARM'),\n",
       " (8, 108.0, 'AUTOMATIC WEAPON/SUB-MACHINE GUN'),\n",
       " (9, 109.0, 'SEMI-AUTOMATIC PISTOL'),\n",
       " (10, 110.0, 'SEMI-AUTOMATIC RIFLE')]"
      ]
     },
     "execution_count": 48,
     "metadata": {},
     "output_type": "execute_result"
    }
   ],
   "source": [
    "%%sql\n",
    "SELECT * FROM weapon\n",
    "LIMIT 10"
   ]
  },
  {
   "cell_type": "code",
   "execution_count": 49,
   "metadata": {},
   "outputs": [
    {
     "name": "stdout",
     "output_type": "stream",
     "text": [
      " * postgresql://student@/project4\n",
      "Done.\n"
     ]
    },
    {
     "data": {
      "text/plain": [
       "[]"
      ]
     },
     "execution_count": 49,
     "metadata": {},
     "output_type": "execute_result"
    }
   ],
   "source": [
    "%%sql\n",
    "ALTER TABLE crime_facts\n",
    "ADD COLUMN weapon_key INTEGER,\n",
    "ADD CONSTRAINT fk_weapon_key\n",
    "    FOREIGN KEY (weapon_key)\n",
    "    REFERENCES weapon (weapon_key);"
   ]
  },
  {
   "cell_type": "code",
   "execution_count": 50,
   "metadata": {},
   "outputs": [
    {
     "name": "stdout",
     "output_type": "stream",
     "text": [
      " * postgresql://student@/project4\n",
      "Done.\n",
      "Done.\n"
     ]
    },
    {
     "data": {
      "text/plain": [
       "[]"
      ]
     },
     "execution_count": 50,
     "metadata": {},
     "output_type": "execute_result"
    }
   ],
   "source": [
    "%%sql\n",
    "DROP INDEX IF EXISTS idx_weapon;\n",
    "\n",
    "CREATE INDEX idx_weapon ON weapon (code,description);"
   ]
  },
  {
   "cell_type": "code",
   "execution_count": 51,
   "metadata": {},
   "outputs": [
    {
     "name": "stdout",
     "output_type": "stream",
     "text": [
      " * postgresql://student@/project4\n",
      "1059559 rows affected.\n",
      "1059560 rows affected.\n"
     ]
    },
    {
     "data": {
      "text/plain": [
       "[]"
      ]
     },
     "execution_count": 51,
     "metadata": {},
     "output_type": "execute_result"
    }
   ],
   "source": [
    "%%sql\n",
    "UPDATE crime_facts\n",
    "SET Weapon_Used_Code = 0\n",
    "WHERE Weapon_Used_Code IS NULL;\n",
    "\n",
    "UPDATE crime_facts\n",
    "SET Weapon_Description = '' \n",
    "WHERE Weapon_Description IS NULL;\n"
   ]
  },
  {
   "cell_type": "code",
   "execution_count": 52,
   "metadata": {},
   "outputs": [
    {
     "name": "stdout",
     "output_type": "stream",
     "text": [
      " * postgresql://student@/project4\n",
      "1 rows affected.\n",
      "2 rows affected.\n"
     ]
    },
    {
     "data": {
      "text/plain": [
       "[]"
      ]
     },
     "execution_count": 52,
     "metadata": {},
     "output_type": "execute_result"
    }
   ],
   "source": [
    "%%sql\n",
    "UPDATE weapon\n",
    "SET code = 0 \n",
    "WHERE code IS NULL;\n",
    "\n",
    "UPDATE weapon\n",
    "SET description = ''\n",
    "WHERE description IS NULL;"
   ]
  },
  {
   "cell_type": "code",
   "execution_count": 53,
   "metadata": {},
   "outputs": [
    {
     "name": "stdout",
     "output_type": "stream",
     "text": [
      " * postgresql://student@/project4\n",
      "1584316 rows affected.\n"
     ]
    },
    {
     "data": {
      "text/plain": [
       "[]"
      ]
     },
     "execution_count": 53,
     "metadata": {},
     "output_type": "execute_result"
    }
   ],
   "source": [
    "%%sql\n",
    "UPDATE crime_facts\n",
    "SET weapon_key = weapon.weapon_key\n",
    "FROM weapon\n",
    "WHERE crime_facts.Weapon_Used_Code = weapon.code\n",
    "    AND crime_facts.Weapon_Description = weapon.description"
   ]
  },
  {
   "cell_type": "code",
   "execution_count": 54,
   "metadata": {},
   "outputs": [
    {
     "name": "stdout",
     "output_type": "stream",
     "text": [
      " * postgresql://student@/project4\n",
      "Done.\n",
      "Done.\n"
     ]
    },
    {
     "data": {
      "text/plain": [
       "[]"
      ]
     },
     "execution_count": 54,
     "metadata": {},
     "output_type": "execute_result"
    }
   ],
   "source": [
    "%%sql\n",
    "DROP TABLE IF EXISTS status;\n",
    "\n",
    "CREATE TABLE status (\n",
    "    status_key SERIAL PRIMARY KEY,\n",
    "    code VARCHAR(5),\n",
    "    description VARCHAR(500)\n",
    ");"
   ]
  },
  {
   "cell_type": "code",
   "execution_count": 55,
   "metadata": {},
   "outputs": [
    {
     "name": "stdout",
     "output_type": "stream",
     "text": [
      " * postgresql://student@/project4\n",
      "10 rows affected.\n"
     ]
    },
    {
     "data": {
      "text/plain": [
       "[]"
      ]
     },
     "execution_count": 55,
     "metadata": {},
     "output_type": "execute_result"
    }
   ],
   "source": [
    "%%sql\n",
    "INSERT INTO status (code,description)\n",
    "SELECT DISTINCT Status_Code, Status_Description\n",
    "FROM crime_facts;"
   ]
  },
  {
   "cell_type": "code",
   "execution_count": 56,
   "metadata": {},
   "outputs": [
    {
     "name": "stdout",
     "output_type": "stream",
     "text": [
      " * postgresql://student@/project4\n",
      "10 rows affected.\n"
     ]
    },
    {
     "data": {
      "text/html": [
       "<table>\n",
       "    <tr>\n",
       "        <th>status_key</th>\n",
       "        <th>code</th>\n",
       "        <th>description</th>\n",
       "    </tr>\n",
       "    <tr>\n",
       "        <td>1</td>\n",
       "        <td>13</td>\n",
       "        <td>UNK</td>\n",
       "    </tr>\n",
       "    <tr>\n",
       "        <td>2</td>\n",
       "        <td>19</td>\n",
       "        <td>UNK</td>\n",
       "    </tr>\n",
       "    <tr>\n",
       "        <td>3</td>\n",
       "        <td>AA</td>\n",
       "        <td>Adult Arrest</td>\n",
       "    </tr>\n",
       "    <tr>\n",
       "        <td>4</td>\n",
       "        <td>AO</td>\n",
       "        <td>Adult Other</td>\n",
       "    </tr>\n",
       "    <tr>\n",
       "        <td>5</td>\n",
       "        <td>CC</td>\n",
       "        <td>UNK</td>\n",
       "    </tr>\n",
       "    <tr>\n",
       "        <td>6</td>\n",
       "        <td>IC</td>\n",
       "        <td>Invest Cont</td>\n",
       "    </tr>\n",
       "    <tr>\n",
       "        <td>7</td>\n",
       "        <td>JA</td>\n",
       "        <td>Juv Arrest</td>\n",
       "    </tr>\n",
       "    <tr>\n",
       "        <td>8</td>\n",
       "        <td>JO</td>\n",
       "        <td>Juv Other</td>\n",
       "    </tr>\n",
       "    <tr>\n",
       "        <td>9</td>\n",
       "        <td>TH</td>\n",
       "        <td>UNK</td>\n",
       "    </tr>\n",
       "    <tr>\n",
       "        <td>10</td>\n",
       "        <td>None</td>\n",
       "        <td>UNK</td>\n",
       "    </tr>\n",
       "</table>"
      ],
      "text/plain": [
       "[(1, '13', 'UNK'),\n",
       " (2, '19', 'UNK'),\n",
       " (3, 'AA', 'Adult Arrest'),\n",
       " (4, 'AO', 'Adult Other'),\n",
       " (5, 'CC', 'UNK'),\n",
       " (6, 'IC', 'Invest Cont'),\n",
       " (7, 'JA', 'Juv Arrest'),\n",
       " (8, 'JO', 'Juv Other'),\n",
       " (9, 'TH', 'UNK'),\n",
       " (10, None, 'UNK')]"
      ]
     },
     "execution_count": 56,
     "metadata": {},
     "output_type": "execute_result"
    }
   ],
   "source": [
    "%%sql\n",
    "SELECT * FROM status\n",
    "LIMIT 10"
   ]
  },
  {
   "cell_type": "code",
   "execution_count": 57,
   "metadata": {},
   "outputs": [
    {
     "name": "stdout",
     "output_type": "stream",
     "text": [
      " * postgresql://student@/project4\n",
      "Done.\n"
     ]
    },
    {
     "data": {
      "text/plain": [
       "[]"
      ]
     },
     "execution_count": 57,
     "metadata": {},
     "output_type": "execute_result"
    }
   ],
   "source": [
    "%%sql\n",
    "ALTER TABLE crime_facts\n",
    "ADD COLUMN status_key INTEGER,\n",
    "ADD CONSTRAINT fk_status_key\n",
    "    FOREIGN KEY (status_key)\n",
    "    REFERENCES status (status_key);"
   ]
  },
  {
   "cell_type": "code",
   "execution_count": 58,
   "metadata": {},
   "outputs": [
    {
     "name": "stdout",
     "output_type": "stream",
     "text": [
      " * postgresql://student@/project4\n",
      "Done.\n",
      "Done.\n"
     ]
    },
    {
     "data": {
      "text/plain": [
       "[]"
      ]
     },
     "execution_count": 58,
     "metadata": {},
     "output_type": "execute_result"
    }
   ],
   "source": [
    "%%sql\n",
    "DROP INDEX IF EXISTS idx_status;\n",
    "\n",
    "CREATE INDEX idx_status ON status (code,description);"
   ]
  },
  {
   "cell_type": "code",
   "execution_count": 59,
   "metadata": {},
   "outputs": [
    {
     "name": "stdout",
     "output_type": "stream",
     "text": [
      " * postgresql://student@/project4\n",
      "2 rows affected.\n"
     ]
    },
    {
     "data": {
      "text/plain": [
       "[]"
      ]
     },
     "execution_count": 59,
     "metadata": {},
     "output_type": "execute_result"
    }
   ],
   "source": [
    "%%sql\n",
    "UPDATE crime_facts\n",
    "SET Status_Code = 0\n",
    "WHERE Status_Code IS NULL;"
   ]
  },
  {
   "cell_type": "code",
   "execution_count": 60,
   "metadata": {},
   "outputs": [
    {
     "name": "stdout",
     "output_type": "stream",
     "text": [
      " * postgresql://student@/project4\n",
      "1 rows affected.\n"
     ]
    },
    {
     "data": {
      "text/plain": [
       "[]"
      ]
     },
     "execution_count": 60,
     "metadata": {},
     "output_type": "execute_result"
    }
   ],
   "source": [
    "%%sql\n",
    "UPDATE status\n",
    "SET code = 0 \n",
    "WHERE code IS NULL;"
   ]
  },
  {
   "cell_type": "code",
   "execution_count": 61,
   "metadata": {},
   "outputs": [
    {
     "name": "stdout",
     "output_type": "stream",
     "text": [
      " * postgresql://student@/project4\n",
      "1584316 rows affected.\n"
     ]
    },
    {
     "data": {
      "text/plain": [
       "[]"
      ]
     },
     "execution_count": 61,
     "metadata": {},
     "output_type": "execute_result"
    }
   ],
   "source": [
    "%%sql\n",
    "UPDATE crime_facts\n",
    "SET status_key = status.status_key\n",
    "FROM status\n",
    "WHERE crime_facts.Status_Code = status.code\n",
    "    AND crime_facts.Status_Description = status.description"
   ]
  },
  {
   "cell_type": "code",
   "execution_count": 62,
   "metadata": {},
   "outputs": [
    {
     "name": "stdout",
     "output_type": "stream",
     "text": [
      " * postgresql://student@/project4\n",
      "Done.\n"
     ]
    },
    {
     "data": {
      "text/plain": [
       "[]"
      ]
     },
     "execution_count": 62,
     "metadata": {},
     "output_type": "execute_result"
    }
   ],
   "source": [
    "%%sql\n",
    "ALTER TABLE crime_facts\n",
    "DROP COLUMN DR_Number,\n",
    "DROP COLUMN Area_ID,\n",
    "DROP COLUMN Area_Name,\n",
    "DROP COLUMN Reporting_District,\n",
    "DROP COLUMN Crime_Code,\n",
    "DROP COLUMN CrimeCode_Description,\n",
    "DROP COLUMN Victim_Age,\n",
    "DROP COLUMN Victim_Sex,\n",
    "DROP COLUMN Victim_Descent,\n",
    "DROP COLUMN Weapon_Used_Code,\n",
    "DROP COLUMN Weapon_Description,\n",
    "DROP COLUMN Status_Code,\n",
    "DROP COLUMN Status_Description;"
   ]
  },
  {
   "cell_type": "code",
   "execution_count": 63,
   "metadata": {},
   "outputs": [
    {
     "name": "stdout",
     "output_type": "stream",
     "text": [
      " * postgresql://student@/project4\n",
      "10 rows affected.\n"
     ]
    },
    {
     "data": {
      "text/html": [
       "<table>\n",
       "    <tr>\n",
       "        <th>date_reported</th>\n",
       "        <th>date_occurred</th>\n",
       "        <th>time_occurred</th>\n",
       "        <th>location</th>\n",
       "        <th>location_key</th>\n",
       "        <th>district_key</th>\n",
       "        <th>crime_key</th>\n",
       "        <th>victim_key</th>\n",
       "        <th>weapon_key</th>\n",
       "        <th>status_key</th>\n",
       "    </tr>\n",
       "    <tr>\n",
       "        <td>2013-05-15</td>\n",
       "        <td>2013-03-01</td>\n",
       "        <td>1400</td>\n",
       "        <td>(34.0085, -118.3351)</td>\n",
       "        <td>3</td>\n",
       "        <td>615</td>\n",
       "        <td>92</td>\n",
       "        <td>161</td>\n",
       "        <td>81</td>\n",
       "        <td>6</td>\n",
       "    </tr>\n",
       "    <tr>\n",
       "        <td>2013-05-22</td>\n",
       "        <td>2013-05-21</td>\n",
       "        <td>1924</td>\n",
       "        <td>(34.0256, -118.3395)</td>\n",
       "        <td>3</td>\n",
       "        <td>238</td>\n",
       "        <td>68</td>\n",
       "        <td>1148</td>\n",
       "        <td>81</td>\n",
       "        <td>6</td>\n",
       "    </tr>\n",
       "    <tr>\n",
       "        <td>2013-05-26</td>\n",
       "        <td>2013-05-25</td>\n",
       "        <td>1800</td>\n",
       "        <td>(34.0328, -118.2959)</td>\n",
       "        <td>3</td>\n",
       "        <td>419</td>\n",
       "        <td>59</td>\n",
       "        <td>77</td>\n",
       "        <td>81</td>\n",
       "        <td>6</td>\n",
       "    </tr>\n",
       "    <tr>\n",
       "        <td>2013-06-04</td>\n",
       "        <td>2013-06-04</td>\n",
       "        <td>1110</td>\n",
       "        <td>(34.01, -118.3296)</td>\n",
       "        <td>3</td>\n",
       "        <td>740</td>\n",
       "        <td>68</td>\n",
       "        <td>1334</td>\n",
       "        <td>81</td>\n",
       "        <td>6</td>\n",
       "    </tr>\n",
       "    <tr>\n",
       "        <td>2013-07-12</td>\n",
       "        <td>2013-07-11</td>\n",
       "        <td>2157</td>\n",
       "        <td>(34.0325, -118.3552)</td>\n",
       "        <td>3</td>\n",
       "        <td>516</td>\n",
       "        <td>74</td>\n",
       "        <td>358</td>\n",
       "        <td>81</td>\n",
       "        <td>6</td>\n",
       "    </tr>\n",
       "    <tr>\n",
       "        <td>2013-07-14</td>\n",
       "        <td>2013-07-13</td>\n",
       "        <td>2300</td>\n",
       "        <td>(34.037, -118.2777)</td>\n",
       "        <td>3</td>\n",
       "        <td>612</td>\n",
       "        <td>14</td>\n",
       "        <td>2318</td>\n",
       "        <td>81</td>\n",
       "        <td>6</td>\n",
       "    </tr>\n",
       "    <tr>\n",
       "        <td>2013-07-23</td>\n",
       "        <td>2013-07-22</td>\n",
       "        <td>2215</td>\n",
       "        <td>(34.0037, -118.3236)</td>\n",
       "        <td>3</td>\n",
       "        <td>325</td>\n",
       "        <td>59</td>\n",
       "        <td>77</td>\n",
       "        <td>81</td>\n",
       "        <td>6</td>\n",
       "    </tr>\n",
       "    <tr>\n",
       "        <td>2013-07-24</td>\n",
       "        <td>2013-07-24</td>\n",
       "        <td>1540</td>\n",
       "        <td>(33.998, -118.3294)</td>\n",
       "        <td>3</td>\n",
       "        <td>325</td>\n",
       "        <td>14</td>\n",
       "        <td>191</td>\n",
       "        <td>81</td>\n",
       "        <td>7</td>\n",
       "    </tr>\n",
       "    <tr>\n",
       "        <td>2013-08-05</td>\n",
       "        <td>2013-08-02</td>\n",
       "        <td>900</td>\n",
       "        <td>(34.0028, -118.3281)</td>\n",
       "        <td>3</td>\n",
       "        <td>325</td>\n",
       "        <td>14</td>\n",
       "        <td>1880</td>\n",
       "        <td>81</td>\n",
       "        <td>6</td>\n",
       "    </tr>\n",
       "    <tr>\n",
       "        <td>2010-06-26</td>\n",
       "        <td>2010-06-25</td>\n",
       "        <td>1730</td>\n",
       "        <td>(34.0155, -118.2959)</td>\n",
       "        <td>3</td>\n",
       "        <td>451</td>\n",
       "        <td>59</td>\n",
       "        <td>2333</td>\n",
       "        <td>81</td>\n",
       "        <td>6</td>\n",
       "    </tr>\n",
       "</table>"
      ],
      "text/plain": [
       "[(datetime.date(2013, 5, 15), datetime.date(2013, 3, 1), '1400', '(34.0085, -118.3351)', 3, 615, 92, 161, 81, 6),\n",
       " (datetime.date(2013, 5, 22), datetime.date(2013, 5, 21), '1924', '(34.0256, -118.3395)', 3, 238, 68, 1148, 81, 6),\n",
       " (datetime.date(2013, 5, 26), datetime.date(2013, 5, 25), '1800', '(34.0328, -118.2959)', 3, 419, 59, 77, 81, 6),\n",
       " (datetime.date(2013, 6, 4), datetime.date(2013, 6, 4), '1110', '(34.01, -118.3296)', 3, 740, 68, 1334, 81, 6),\n",
       " (datetime.date(2013, 7, 12), datetime.date(2013, 7, 11), '2157', '(34.0325, -118.3552)', 3, 516, 74, 358, 81, 6),\n",
       " (datetime.date(2013, 7, 14), datetime.date(2013, 7, 13), '2300', '(34.037, -118.2777)', 3, 612, 14, 2318, 81, 6),\n",
       " (datetime.date(2013, 7, 23), datetime.date(2013, 7, 22), '2215', '(34.0037, -118.3236)', 3, 325, 59, 77, 81, 6),\n",
       " (datetime.date(2013, 7, 24), datetime.date(2013, 7, 24), '1540', '(33.998, -118.3294)', 3, 325, 14, 191, 81, 7),\n",
       " (datetime.date(2013, 8, 5), datetime.date(2013, 8, 2), '900', '(34.0028, -118.3281)', 3, 325, 14, 1880, 81, 6),\n",
       " (datetime.date(2010, 6, 26), datetime.date(2010, 6, 25), '1730', '(34.0155, -118.2959)', 3, 451, 59, 2333, 81, 6)]"
      ]
     },
     "execution_count": 63,
     "metadata": {},
     "output_type": "execute_result"
    }
   ],
   "source": [
    "%%sql\n",
    "SELECT * FROM crime_facts\n",
    "LIMIT 10"
   ]
  },
  {
   "cell_type": "markdown",
   "metadata": {},
   "source": [
    "## Part 3 - Analysis (35 points)\n",
    "\n",
    "Explore and analyze your data in its wrangled form. Follow through on the themes you identified in Part 1\n",
    "with queries or scripts that answer the questions you had in mind. Be clear about the answers you discover,\n",
    "discussing them and whether the results match your expectations. Include charts or other visuals that support\n",
    "your analysis. You may use Tableau, matplotlib, ggplot, or other tools we have not covered in class for\n",
    "visualization (and only for visualization), but be sure to export images from those tools and to include any\n",
    "images properly in your notebook writeup and slides."
   ]
  },
  {
   "cell_type": "markdown",
   "metadata": {},
   "source": [
    "### PART3a - Counting"
   ]
  },
  {
   "cell_type": "markdown",
   "metadata": {},
   "source": [
    "#### 1) which 5 kinds of crime happen most frequently? "
   ]
  },
  {
   "cell_type": "code",
   "execution_count": 64,
   "metadata": {},
   "outputs": [
    {
     "name": "stdout",
     "output_type": "stream",
     "text": [
      " * postgresql://student@/project4\n",
      "10 rows affected.\n"
     ]
    },
    {
     "data": {
      "text/html": [
       "<table>\n",
       "    <tr>\n",
       "        <th>description</th>\n",
       "        <th>count</th>\n",
       "    </tr>\n",
       "    <tr>\n",
       "        <td>BATTERY - SIMPLE ASSAULT</td>\n",
       "        <td>145767</td>\n",
       "    </tr>\n",
       "    <tr>\n",
       "        <td>VEHICLE - STOLEN</td>\n",
       "        <td>121329</td>\n",
       "    </tr>\n",
       "    <tr>\n",
       "        <td>BURGLARY FROM VEHICLE</td>\n",
       "        <td>121318</td>\n",
       "    </tr>\n",
       "    <tr>\n",
       "        <td>BURGLARY</td>\n",
       "        <td>114751</td>\n",
       "    </tr>\n",
       "    <tr>\n",
       "        <td>THEFT PLAIN - PETTY ($950 &amp; UNDER)</td>\n",
       "        <td>113709</td>\n",
       "    </tr>\n",
       "    <tr>\n",
       "        <td>THEFT OF IDENTITY</td>\n",
       "        <td>100653</td>\n",
       "    </tr>\n",
       "    <tr>\n",
       "        <td>INTIMATE PARTNER - SIMPLE ASSAULT</td>\n",
       "        <td>85908</td>\n",
       "    </tr>\n",
       "    <tr>\n",
       "        <td>VANDALISM - FELONY ($400 &amp; OVER, ALL CHURCH VANDALISMS) 0114</td>\n",
       "        <td>79433</td>\n",
       "    </tr>\n",
       "    <tr>\n",
       "        <td>VANDALISM - MISDEAMEANOR ($399 OR UNDER)</td>\n",
       "        <td>71523</td>\n",
       "    </tr>\n",
       "    <tr>\n",
       "        <td>ASSAULT WITH DEADLY WEAPON, AGGRAVATED ASSAULT</td>\n",
       "        <td>67631</td>\n",
       "    </tr>\n",
       "</table>"
      ],
      "text/plain": [
       "[('BATTERY - SIMPLE ASSAULT', 145767),\n",
       " ('VEHICLE - STOLEN', 121329),\n",
       " ('BURGLARY FROM VEHICLE', 121318),\n",
       " ('BURGLARY', 114751),\n",
       " ('THEFT PLAIN - PETTY ($950 & UNDER)', 113709),\n",
       " ('THEFT OF IDENTITY', 100653),\n",
       " ('INTIMATE PARTNER - SIMPLE ASSAULT', 85908),\n",
       " ('VANDALISM - FELONY ($400 & OVER, ALL CHURCH VANDALISMS) 0114', 79433),\n",
       " ('VANDALISM - MISDEAMEANOR ($399 OR UNDER)', 71523),\n",
       " ('ASSAULT WITH DEADLY WEAPON, AGGRAVATED ASSAULT', 67631)]"
      ]
     },
     "execution_count": 64,
     "metadata": {},
     "output_type": "execute_result"
    }
   ],
   "source": [
    "%%sql\n",
    "SELECT DISTINCT description, count (*)\n",
    "FROM crime JOIN crime_facts\n",
    "ON crime.crime_key = crime_facts.crime_key\n",
    "WHERE description IS NOT NULL\n",
    "GROUP BY description\n",
    "ORDER BY count DESC\n",
    "LIMIT 10"
   ]
  },
  {
   "cell_type": "code",
   "execution_count": 65,
   "metadata": {},
   "outputs": [
    {
     "name": "stdout",
     "output_type": "stream",
     "text": [
      " * postgresql://student@/project4\n",
      "10 rows affected.\n",
      "Returning data to local variable part3ai\n"
     ]
    }
   ],
   "source": [
    "%%sql\n",
    "part3ai << SELECT DISTINCT description, count (*)\n",
    "FROM crime JOIN crime_facts\n",
    "ON crime.crime_key = crime_facts.crime_key\n",
    "WHERE description IS NOT NULL\n",
    "GROUP BY description\n",
    "ORDER BY count DESC\n",
    "LIMIT 10"
   ]
  },
  {
   "cell_type": "code",
   "execution_count": 66,
   "metadata": {},
   "outputs": [],
   "source": [
    "%matplotlib inline\n",
    "import matplotlib.pyplot as plt"
   ]
  },
  {
   "cell_type": "code",
   "execution_count": 67,
   "metadata": {},
   "outputs": [
    {
     "data": {
      "text/plain": [
       "([<matplotlib.patches.Wedge at 0x7f87531b9f60>,\n",
       "  <matplotlib.patches.Wedge at 0x7f87531bf6d8>,\n",
       "  <matplotlib.patches.Wedge at 0x7f87531bfe10>,\n",
       "  <matplotlib.patches.Wedge at 0x7f87531ca5f8>,\n",
       "  <matplotlib.patches.Wedge at 0x7f87531cada0>,\n",
       "  <matplotlib.patches.Wedge at 0x7f87531d1588>,\n",
       "  <matplotlib.patches.Wedge at 0x7f87531d1d30>,\n",
       "  <matplotlib.patches.Wedge at 0x7f87531d5518>,\n",
       "  <matplotlib.patches.Wedge at 0x7f87531d5cc0>,\n",
       "  <matplotlib.patches.Wedge at 0x7f87531dc4a8>],\n",
       " [Text(0.991412,0.476553,'BATTERY - SIMPLE ASSAULT'),\n",
       "  Text(0.326855,1.05032,'VEHICLE - STOLEN'),\n",
       "  Text(-0.472685,0.993262,'BURGLARY FROM VEHICLE'),\n",
       "  Text(-1.01275,0.429341,'BURGLARY'),\n",
       "  Text(-1.05045,-0.326432,'THEFT PLAIN - PETTY ($950 & UNDER)'),\n",
       "  Text(-0.630672,-0.90125,'THEFT OF IDENTITY'),\n",
       "  Text(-0.0408062,-1.09924,'INTIMATE PARTNER - SIMPLE ASSAULT'),\n",
       "  Text(0.499289,-0.980158,'VANDALISM - FELONY ($400 & OVER, ALL CHURCH VANDALISMS) 0114'),\n",
       "  Text(0.885164,-0.653059,'VANDALISM - MISDEAMEANOR ($399 OR UNDER)'),\n",
       "  Text(1.07632,-0.227036,'ASSAULT WITH DEADLY WEAPON, AGGRAVATED ASSAULT')],\n",
       " [Text(0.54077,0.259938,'14.3%'),\n",
       "  Text(0.178285,0.5729,'11.9%'),\n",
       "  Text(-0.257828,0.541779,'11.9%'),\n",
       "  Text(-0.55241,0.234186,'11.2%'),\n",
       "  Text(-0.572972,-0.178054,'11.1%'),\n",
       "  Text(-0.344003,-0.491591,'9.8%'),\n",
       "  Text(-0.0222579,-0.599587,'8.4%'),\n",
       "  Text(0.27234,-0.534632,'7.8%'),\n",
       "  Text(0.482816,-0.356214,'7.0%'),\n",
       "  Text(0.587081,-0.123838,'6.6%')])"
      ]
     },
     "execution_count": 67,
     "metadata": {},
     "output_type": "execute_result"
    },
    {
     "data": {
      "image/png": "[encoded data removed]",
      "text/plain": [
       "<Figure size 432x288 with 1 Axes>"
      ]
     },
     "metadata": {},
     "output_type": "display_data"
    }
   ],
   "source": [
    "part3ai.pie(autopct='%1.1f%%')"
   ]
  },
  {
   "cell_type": "markdown",
   "metadata": {},
   "source": [
    "#### 2) Which area is the most dangerous area in LA?"
   ]
  },
  {
   "cell_type": "code",
   "execution_count": 68,
   "metadata": {},
   "outputs": [
    {
     "name": "stdout",
     "output_type": "stream",
     "text": [
      " * postgresql://student@/project4\n",
      "10 rows affected.\n"
     ]
    },
    {
     "data": {
      "text/html": [
       "<table>\n",
       "    <tr>\n",
       "        <th>name</th>\n",
       "        <th>count</th>\n",
       "    </tr>\n",
       "    <tr>\n",
       "        <td>77th Street</td>\n",
       "        <td>110605</td>\n",
       "    </tr>\n",
       "    <tr>\n",
       "        <td>Southwest</td>\n",
       "        <td>102259</td>\n",
       "    </tr>\n",
       "    <tr>\n",
       "        <td>N Hollywood</td>\n",
       "        <td>86405</td>\n",
       "    </tr>\n",
       "    <tr>\n",
       "        <td>Pacific</td>\n",
       "        <td>83763</td>\n",
       "    </tr>\n",
       "    <tr>\n",
       "        <td>Southeast</td>\n",
       "        <td>83517</td>\n",
       "    </tr>\n",
       "    <tr>\n",
       "        <td>Mission</td>\n",
       "        <td>80249</td>\n",
       "    </tr>\n",
       "    <tr>\n",
       "        <td>Northeast</td>\n",
       "        <td>76627</td>\n",
       "    </tr>\n",
       "    <tr>\n",
       "        <td>Van Nuys</td>\n",
       "        <td>75456</td>\n",
       "    </tr>\n",
       "    <tr>\n",
       "        <td>Newton</td>\n",
       "        <td>74385</td>\n",
       "    </tr>\n",
       "    <tr>\n",
       "        <td>Devonshire</td>\n",
       "        <td>74013</td>\n",
       "    </tr>\n",
       "</table>"
      ],
      "text/plain": [
       "[('77th Street', 110605),\n",
       " ('Southwest', 102259),\n",
       " ('N Hollywood', 86405),\n",
       " ('Pacific', 83763),\n",
       " ('Southeast', 83517),\n",
       " ('Mission', 80249),\n",
       " ('Northeast', 76627),\n",
       " ('Van Nuys', 75456),\n",
       " ('Newton', 74385),\n",
       " ('Devonshire', 74013)]"
      ]
     },
     "execution_count": 68,
     "metadata": {},
     "output_type": "execute_result"
    }
   ],
   "source": [
    "%%sql\n",
    "SELECT DISTINCT name, count (*)\n",
    "FROM location JOIN crime_facts\n",
    "ON location.location_key = crime_facts.location_key\n",
    "WHERE name IS NOT NULL\n",
    "GROUP BY name\n",
    "ORDER BY count DESC\n",
    "LIMIT 10"
   ]
  },
  {
   "cell_type": "code",
   "execution_count": 69,
   "metadata": {},
   "outputs": [
    {
     "name": "stdout",
     "output_type": "stream",
     "text": [
      " * postgresql://student@/project4\n",
      "10 rows affected.\n",
      "Returning data to local variable part3aii\n"
     ]
    }
   ],
   "source": [
    "%%sql\n",
    "part3aii << SELECT DISTINCT name, count (*)\n",
    "FROM location JOIN crime_facts\n",
    "ON location.location_key = crime_facts.location_key\n",
    "WHERE name IS NOT NULL\n",
    "GROUP BY name\n",
    "ORDER BY count DESC\n",
    "LIMIT 10"
   ]
  },
  {
   "cell_type": "code",
   "execution_count": 70,
   "metadata": {},
   "outputs": [
    {
     "data": {
      "text/plain": [
       "<BarContainer object of 10 artists>"
      ]
     },
     "execution_count": 70,
     "metadata": {},
     "output_type": "execute_result"
    },
    {
     "data": {
      "image/png": "[encoded data removed]",
      "text/plain": [
       "<Figure size 432x288 with 1 Axes>"
      ]
     },
     "metadata": {
      "needs_background": "light"
     },
     "output_type": "display_data"
    }
   ],
   "source": [
    "%matplotlib inline\n",
    "import numpy as np\n",
    "import matplotlib.pyplot as plt\n",
    "part3aii.bar()"
   ]
  },
  {
   "cell_type": "code",
   "execution_count": 71,
   "metadata": {},
   "outputs": [
    {
     "name": "stdout",
     "output_type": "stream",
     "text": [
      " * postgresql://student@/project4\n",
      "10 rows affected.\n"
     ]
    },
    {
     "data": {
      "text/html": [
       "<table>\n",
       "    <tr>\n",
       "        <th>reporting_district</th>\n",
       "        <th>count</th>\n",
       "    </tr>\n",
       "    <tr>\n",
       "        <td>363</td>\n",
       "        <td>8316</td>\n",
       "    </tr>\n",
       "    <tr>\n",
       "        <td>645</td>\n",
       "        <td>7670</td>\n",
       "    </tr>\n",
       "    <tr>\n",
       "        <td>2156</td>\n",
       "        <td>6694</td>\n",
       "    </tr>\n",
       "    <tr>\n",
       "        <td>646</td>\n",
       "        <td>6670</td>\n",
       "    </tr>\n",
       "    <tr>\n",
       "        <td>636</td>\n",
       "        <td>6481</td>\n",
       "    </tr>\n",
       "    <tr>\n",
       "        <td>1494</td>\n",
       "        <td>5852</td>\n",
       "    </tr>\n",
       "    <tr>\n",
       "        <td>1822</td>\n",
       "        <td>5459</td>\n",
       "    </tr>\n",
       "    <tr>\n",
       "        <td>1239</td>\n",
       "        <td>5299</td>\n",
       "    </tr>\n",
       "    <tr>\n",
       "        <td>1985</td>\n",
       "        <td>5123</td>\n",
       "    </tr>\n",
       "    <tr>\n",
       "        <td>1801</td>\n",
       "        <td>4914</td>\n",
       "    </tr>\n",
       "</table>"
      ],
      "text/plain": [
       "[(363, 8316),\n",
       " (645, 7670),\n",
       " (2156, 6694),\n",
       " (646, 6670),\n",
       " (636, 6481),\n",
       " (1494, 5852),\n",
       " (1822, 5459),\n",
       " (1239, 5299),\n",
       " (1985, 5123),\n",
       " (1801, 4914)]"
      ]
     },
     "execution_count": 71,
     "metadata": {},
     "output_type": "execute_result"
    }
   ],
   "source": [
    "%%sql\n",
    "SELECT DISTINCT reporting_district, count (*)\n",
    "FROM district JOIN crime_facts\n",
    "ON district.district_key = crime_facts.district_key\n",
    "WHERE reporting_district IS NOT NULL\n",
    "GROUP BY reporting_district\n",
    "ORDER BY count DESC\n",
    "LIMIT 10"
   ]
  },
  {
   "cell_type": "markdown",
   "metadata": {},
   "source": [
    "#### 3) What time should people be more careful about possible happening crime? "
   ]
  },
  {
   "cell_type": "code",
   "execution_count": 72,
   "metadata": {},
   "outputs": [
    {
     "name": "stdout",
     "output_type": "stream",
     "text": [
      " * postgresql://student@/project4\n",
      "10 rows affected.\n"
     ]
    },
    {
     "data": {
      "text/html": [
       "<table>\n",
       "    <tr>\n",
       "        <th>time_occurred</th>\n",
       "        <th>count</th>\n",
       "    </tr>\n",
       "    <tr>\n",
       "        <td>1200</td>\n",
       "        <td>88426</td>\n",
       "    </tr>\n",
       "    <tr>\n",
       "        <td>1800</td>\n",
       "        <td>47046</td>\n",
       "    </tr>\n",
       "    <tr>\n",
       "        <td>2000</td>\n",
       "        <td>43991</td>\n",
       "    </tr>\n",
       "    <tr>\n",
       "        <td>1900</td>\n",
       "        <td>41995</td>\n",
       "    </tr>\n",
       "    <tr>\n",
       "        <td>2200</td>\n",
       "        <td>41488</td>\n",
       "    </tr>\n",
       "    <tr>\n",
       "        <td>1700</td>\n",
       "        <td>41479</td>\n",
       "    </tr>\n",
       "    <tr>\n",
       "        <td>2100</td>\n",
       "        <td>40407</td>\n",
       "    </tr>\n",
       "    <tr>\n",
       "        <td>800</td>\n",
       "        <td>39100</td>\n",
       "    </tr>\n",
       "    <tr>\n",
       "        <td>1500</td>\n",
       "        <td>37265</td>\n",
       "    </tr>\n",
       "    <tr>\n",
       "        <td>1600</td>\n",
       "        <td>37039</td>\n",
       "    </tr>\n",
       "</table>"
      ],
      "text/plain": [
       "[('1200', 88426),\n",
       " ('1800', 47046),\n",
       " ('2000', 43991),\n",
       " ('1900', 41995),\n",
       " ('2200', 41488),\n",
       " ('1700', 41479),\n",
       " ('2100', 40407),\n",
       " ('800', 39100),\n",
       " ('1500', 37265),\n",
       " ('1600', 37039)]"
      ]
     },
     "execution_count": 72,
     "metadata": {},
     "output_type": "execute_result"
    }
   ],
   "source": [
    "%%sql\n",
    "SELECT distinct time_occurred,count(*)\n",
    "FROM crime_facts\n",
    "GROUP BY  time_occurred\n",
    "ORDER BY count DESC\n",
    "LIMIT 10;"
   ]
  },
  {
   "cell_type": "code",
   "execution_count": 73,
   "metadata": {},
   "outputs": [
    {
     "name": "stdout",
     "output_type": "stream",
     "text": [
      " * postgresql://student@/project4\n",
      "10 rows affected.\n",
      "Returning data to local variable part3aiii\n"
     ]
    }
   ],
   "source": [
    "%%sql\n",
    "part3aiii << SELECT distinct time_occurred,count(*)\n",
    "FROM crime_facts\n",
    "GROUP BY  time_occurred\n",
    "ORDER BY count DESC\n",
    "LIMIT 10;"
   ]
  },
  {
   "cell_type": "code",
   "execution_count": 74,
   "metadata": {},
   "outputs": [
    {
     "data": {
      "text/plain": [
       "<BarContainer object of 10 artists>"
      ]
     },
     "execution_count": 74,
     "metadata": {},
     "output_type": "execute_result"
    },
    {
     "data": {
      "image/png": "[encoded data removed]",
      "text/plain": [
       "<Figure size 432x288 with 1 Axes>"
      ]
     },
     "metadata": {
      "needs_background": "light"
     },
     "output_type": "display_data"
    }
   ],
   "source": [
    "part3aiii.bar(color=('#3b5998','#008b8b','#008b8b','#008b8b','#008b8b','#008b8b','#008b8b','#008b8b','#008b8b','#008b8b'))"
   ]
  },
  {
   "cell_type": "markdown",
   "metadata": {},
   "source": [
    "#### 4) Which age, gender and descent are more possible to be attacked?"
   ]
  },
  {
   "cell_type": "markdown",
   "metadata": {},
   "source": [
    "##### age"
   ]
  },
  {
   "cell_type": "code",
   "execution_count": 75,
   "metadata": {},
   "outputs": [
    {
     "name": "stdout",
     "output_type": "stream",
     "text": [
      " * postgresql://student@/project4\n",
      "11 rows affected.\n"
     ]
    },
    {
     "data": {
      "text/html": [
       "<table>\n",
       "    <tr>\n",
       "        <th>age</th>\n",
       "        <th>count</th>\n",
       "    </tr>\n",
       "    <tr>\n",
       "        <td>15.0</td>\n",
       "        <td>38223</td>\n",
       "    </tr>\n",
       "    <tr>\n",
       "        <td>25.0</td>\n",
       "        <td>36939</td>\n",
       "    </tr>\n",
       "    <tr>\n",
       "        <td>24.0</td>\n",
       "        <td>36096</td>\n",
       "    </tr>\n",
       "    <tr>\n",
       "        <td>26.0</td>\n",
       "        <td>35693</td>\n",
       "    </tr>\n",
       "    <tr>\n",
       "        <td>23.0</td>\n",
       "        <td>35131</td>\n",
       "    </tr>\n",
       "    <tr>\n",
       "        <td>27.0</td>\n",
       "        <td>35097</td>\n",
       "    </tr>\n",
       "    <tr>\n",
       "        <td>28.0</td>\n",
       "        <td>34517</td>\n",
       "    </tr>\n",
       "    <tr>\n",
       "        <td>29.0</td>\n",
       "        <td>34323</td>\n",
       "    </tr>\n",
       "    <tr>\n",
       "        <td>30.0</td>\n",
       "        <td>33686</td>\n",
       "    </tr>\n",
       "    <tr>\n",
       "        <td>14.0</td>\n",
       "        <td>32816</td>\n",
       "    </tr>\n",
       "    <tr>\n",
       "        <td>22.0</td>\n",
       "        <td>32671</td>\n",
       "    </tr>\n",
       "</table>"
      ],
      "text/plain": [
       "[(15.0, 38223),\n",
       " (25.0, 36939),\n",
       " (24.0, 36096),\n",
       " (26.0, 35693),\n",
       " (23.0, 35131),\n",
       " (27.0, 35097),\n",
       " (28.0, 34517),\n",
       " (29.0, 34323),\n",
       " (30.0, 33686),\n",
       " (14.0, 32816),\n",
       " (22.0, 32671)]"
      ]
     },
     "execution_count": 75,
     "metadata": {},
     "output_type": "execute_result"
    }
   ],
   "source": [
    "%%sql\n",
    "SELECT DISTINCT age, count (*)\n",
    "FROM victim JOIN crime_facts\n",
    "ON victim.victim_key = crime_facts.victim_key\n",
    "WHERE age != '0'\n",
    "GROUP BY age\n",
    "ORDER BY count DESC\n",
    "LIMIT 11"
   ]
  },
  {
   "cell_type": "code",
   "execution_count": 76,
   "metadata": {},
   "outputs": [
    {
     "name": "stdout",
     "output_type": "stream",
     "text": [
      " * postgresql://student@/project4\n",
      "11 rows affected.\n",
      "Returning data to local variable part3aivage\n"
     ]
    }
   ],
   "source": [
    "%%sql\n",
    "part3aivage << SELECT DISTINCT age, count (*)\n",
    "FROM victim JOIN crime_facts\n",
    "ON victim.victim_key = crime_facts.victim_key\n",
    "WHERE age != '0'\n",
    "GROUP BY age\n",
    "ORDER BY count DESC\n",
    "LIMIT 11"
   ]
  },
  {
   "cell_type": "code",
   "execution_count": 77,
   "metadata": {},
   "outputs": [
    {
     "data": {
      "text/plain": [
       "<BarContainer object of 11 artists>"
      ]
     },
     "execution_count": 77,
     "metadata": {},
     "output_type": "execute_result"
    },
    {
     "data": {
      "image/png": "[encoded data removed]",
      "text/plain": [
       "<Figure size 432x288 with 1 Axes>"
      ]
     },
     "metadata": {
      "needs_background": "light"
     },
     "output_type": "display_data"
    }
   ],
   "source": [
    "part3aivage.bar()"
   ]
  },
  {
   "cell_type": "markdown",
   "metadata": {},
   "source": [
    "##### gender"
   ]
  },
  {
   "cell_type": "code",
   "execution_count": 78,
   "metadata": {},
   "outputs": [
    {
     "name": "stdout",
     "output_type": "stream",
     "text": [
      " * postgresql://student@/project4\n",
      "4 rows affected.\n"
     ]
    },
    {
     "data": {
      "text/html": [
       "<table>\n",
       "    <tr>\n",
       "        <th>sex</th>\n",
       "        <th>count</th>\n",
       "    </tr>\n",
       "    <tr>\n",
       "        <td>M</td>\n",
       "        <td>739581</td>\n",
       "    </tr>\n",
       "    <tr>\n",
       "        <td>F</td>\n",
       "        <td>675402</td>\n",
       "    </tr>\n",
       "    <tr>\n",
       "        <td>X</td>\n",
       "        <td>24080</td>\n",
       "    </tr>\n",
       "    <tr>\n",
       "        <td>H</td>\n",
       "        <td>53</td>\n",
       "    </tr>\n",
       "</table>"
      ],
      "text/plain": [
       "[('M', 739581), ('F', 675402), ('X', 24080), ('H', 53)]"
      ]
     },
     "execution_count": 78,
     "metadata": {},
     "output_type": "execute_result"
    }
   ],
   "source": [
    "%%sql\n",
    "SELECT DISTINCT sex, count (*)\n",
    "FROM victim JOIN crime_facts\n",
    "ON victim.victim_key = crime_facts.victim_key\n",
    "WHERE sex != ''\n",
    "GROUP BY sex\n",
    "ORDER BY count DESC\n",
    "LIMIT 4"
   ]
  },
  {
   "cell_type": "code",
   "execution_count": 79,
   "metadata": {},
   "outputs": [
    {
     "name": "stdout",
     "output_type": "stream",
     "text": [
      " * postgresql://student@/project4\n",
      "4 rows affected.\n",
      "Returning data to local variable part3aivsex\n"
     ]
    }
   ],
   "source": [
    "%%sql\n",
    "part3aivsex << SELECT DISTINCT sex, count (*)\n",
    "FROM victim JOIN crime_facts\n",
    "ON victim.victim_key = crime_facts.victim_key\n",
    "WHERE sex != ''\n",
    "GROUP BY sex\n",
    "ORDER BY count DESC\n",
    "LIMIT 4\n"
   ]
  },
  {
   "cell_type": "code",
   "execution_count": 80,
   "metadata": {},
   "outputs": [
    {
     "data": {
      "text/plain": [
       "<BarContainer object of 4 artists>"
      ]
     },
     "execution_count": 80,
     "metadata": {},
     "output_type": "execute_result"
    },
    {
     "data": {
      "image/png": "[encoded data removed]",
      "text/plain": [
       "<Figure size 432x288 with 1 Axes>"
      ]
     },
     "metadata": {
      "needs_background": "light"
     },
     "output_type": "display_data"
    }
   ],
   "source": [
    "part3aivsex.bar(color= (\"#6497b1\",\"#005b96\",\"#03396c\",\"#005b96\"))"
   ]
  },
  {
   "cell_type": "markdown",
   "metadata": {},
   "source": [
    "##### descent"
   ]
  },
  {
   "cell_type": "code",
   "execution_count": 81,
   "metadata": {},
   "outputs": [
    {
     "name": "stdout",
     "output_type": "stream",
     "text": [
      " * postgresql://student@/project4\n",
      "5 rows affected.\n"
     ]
    },
    {
     "data": {
      "text/html": [
       "<table>\n",
       "    <tr>\n",
       "        <th>descent</th>\n",
       "        <th>count</th>\n",
       "    </tr>\n",
       "    <tr>\n",
       "        <td>H</td>\n",
       "        <td>549515</td>\n",
       "    </tr>\n",
       "    <tr>\n",
       "        <td>W</td>\n",
       "        <td>391855</td>\n",
       "    </tr>\n",
       "    <tr>\n",
       "        <td>B</td>\n",
       "        <td>255056</td>\n",
       "    </tr>\n",
       "    <tr>\n",
       "        <td>O</td>\n",
       "        <td>152776</td>\n",
       "    </tr>\n",
       "    <tr>\n",
       "        <td>X</td>\n",
       "        <td>41535</td>\n",
       "    </tr>\n",
       "</table>"
      ],
      "text/plain": [
       "[('H', 549515), ('W', 391855), ('B', 255056), ('O', 152776), ('X', 41535)]"
      ]
     },
     "execution_count": 81,
     "metadata": {},
     "output_type": "execute_result"
    }
   ],
   "source": [
    "%%sql\n",
    "SELECT DISTINCT descent, count (*)\n",
    "FROM victim JOIN crime_facts\n",
    "ON victim.victim_key = crime_facts.victim_key\n",
    "WHERE descent != ''\n",
    "GROUP BY descent\n",
    "ORDER BY count DESC\n",
    "LIMIT 5"
   ]
  },
  {
   "cell_type": "code",
   "execution_count": 82,
   "metadata": {},
   "outputs": [
    {
     "name": "stdout",
     "output_type": "stream",
     "text": [
      " * postgresql://student@/project4\n",
      "5 rows affected.\n",
      "Returning data to local variable part3adescent\n"
     ]
    }
   ],
   "source": [
    "%%sql\n",
    "part3adescent << SELECT DISTINCT descent, count (*)\n",
    "FROM victim JOIN crime_facts\n",
    "ON victim.victim_key = crime_facts.victim_key\n",
    "WHERE descent != ''\n",
    "GROUP BY descent\n",
    "ORDER BY count DESC\n",
    "LIMIT 5"
   ]
  },
  {
   "cell_type": "code",
   "execution_count": 83,
   "metadata": {},
   "outputs": [
    {
     "data": {
      "text/plain": [
       "<BarContainer object of 5 artists>"
      ]
     },
     "execution_count": 83,
     "metadata": {},
     "output_type": "execute_result"
    },
    {
     "data": {
      "image/png": "[encoded data removed]",
      "text/plain": [
       "<Figure size 432x288 with 1 Axes>"
      ]
     },
     "metadata": {
      "needs_background": "light"
     },
     "output_type": "display_data"
    }
   ],
   "source": [
    "part3adescent.bar(color = ('#b2d8d8','#66b2b2','#008080','#006666','#004c4c'))"
   ]
  },
  {
   "cell_type": "markdown",
   "metadata": {},
   "source": [
    "#### 5) Which weapons are frequnetly used?"
   ]
  },
  {
   "cell_type": "code",
   "execution_count": 84,
   "metadata": {},
   "outputs": [
    {
     "name": "stdout",
     "output_type": "stream",
     "text": [
      " * postgresql://student@/project4\n",
      "5 rows affected.\n"
     ]
    },
    {
     "data": {
      "text/html": [
       "<table>\n",
       "    <tr>\n",
       "        <th>description</th>\n",
       "        <th>count</th>\n",
       "    </tr>\n",
       "    <tr>\n",
       "        <td>STRONG-ARM (HANDS, FIST, FEET OR BODILY FORCE)</td>\n",
       "        <td>319818</td>\n",
       "    </tr>\n",
       "    <tr>\n",
       "        <td>VERBAL THREAT</td>\n",
       "        <td>43814</td>\n",
       "    </tr>\n",
       "    <tr>\n",
       "        <td>UNKNOWN WEAPON/OTHER WEAPON</td>\n",
       "        <td>40746</td>\n",
       "    </tr>\n",
       "    <tr>\n",
       "        <td>HAND GUN</td>\n",
       "        <td>25352</td>\n",
       "    </tr>\n",
       "    <tr>\n",
       "        <td>SEMI-AUTOMATIC PISTOL</td>\n",
       "        <td>10096</td>\n",
       "    </tr>\n",
       "</table>"
      ],
      "text/plain": [
       "[('STRONG-ARM (HANDS, FIST, FEET OR BODILY FORCE)', 319818),\n",
       " ('VERBAL THREAT', 43814),\n",
       " ('UNKNOWN WEAPON/OTHER WEAPON', 40746),\n",
       " ('HAND GUN', 25352),\n",
       " ('SEMI-AUTOMATIC PISTOL', 10096)]"
      ]
     },
     "execution_count": 84,
     "metadata": {},
     "output_type": "execute_result"
    }
   ],
   "source": [
    "%%sql\n",
    "SELECT DISTINCT description, count (*)\n",
    "FROM weapon JOIN crime_facts\n",
    "ON weapon.weapon_key = crime_facts.weapon_key\n",
    "WHERE description != ''\n",
    "GROUP BY description\n",
    "ORDER BY count DESC\n",
    "LIMIT 5"
   ]
  },
  {
   "cell_type": "code",
   "execution_count": 85,
   "metadata": {},
   "outputs": [
    {
     "name": "stdout",
     "output_type": "stream",
     "text": [
      " * postgresql://student@/project4\n",
      "5 rows affected.\n",
      "Returning data to local variable weapon\n"
     ]
    }
   ],
   "source": [
    "%%sql\n",
    "weapon << SELECT DISTINCT description, count (*)\n",
    "FROM weapon JOIN crime_facts\n",
    "ON weapon.weapon_key = crime_facts.weapon_key\n",
    "WHERE description != ''\n",
    "GROUP BY description\n",
    "ORDER BY count DESC\n",
    "LIMIT 5"
   ]
  },
  {
   "cell_type": "code",
   "execution_count": 86,
   "metadata": {},
   "outputs": [
    {
     "data": {
      "text/plain": [
       "([<matplotlib.patches.Wedge at 0x7f875301f4e0>,\n",
       "  <matplotlib.patches.Wedge at 0x7f875301fc50>,\n",
       "  <matplotlib.patches.Wedge at 0x7f8752fa5438>,\n",
       "  <matplotlib.patches.Wedge at 0x7f8752fa5be0>,\n",
       "  <matplotlib.patches.Wedge at 0x7f8752faa3c8>],\n",
       " [Text(-0.785474,0.907211,'STRONG-ARM (HANDS, FIST, FEET OR BODILY FORCE)'),\n",
       "  Text(0.18541,-1.08426,'VERBAL THREAT'),\n",
       "  Text(0.768397,-0.787125,'UNKNOWN WEAPON/OTHER WEAPON'),\n",
       "  Text(1.04231,-0.351565,'HAND GUN'),\n",
       "  Text(1.09714,-0.0792565,'SEMI-AUTOMATIC PISTOL')],\n",
       " [Text(-0.458193,0.529206,'72.7%'),\n",
       "  Text(0.101133,-0.591415,'10.0%'),\n",
       "  Text(0.419126,-0.429341,'9.3%'),\n",
       "  Text(0.568531,-0.191763,'5.8%'),\n",
       "  Text(0.598441,-0.0432308,'2.3%')])"
      ]
     },
     "execution_count": 86,
     "metadata": {},
     "output_type": "execute_result"
    },
    {
     "data": {
      "image/png": "[encoded data removed]",
      "text/plain": [
       "<Figure size 432x288 with 1 Axes>"
      ]
     },
     "metadata": {},
     "output_type": "display_data"
    }
   ],
   "source": [
    "weapon.pie(autopct='%1.1f%%',explode=(0.1,0,0, 0, 0))"
   ]
  },
  {
   "cell_type": "markdown",
   "metadata": {},
   "source": [
    "#### 6) what about the count of status?"
   ]
  },
  {
   "cell_type": "code",
   "execution_count": 87,
   "metadata": {},
   "outputs": [
    {
     "name": "stdout",
     "output_type": "stream",
     "text": [
      " * postgresql://student@/project4\n",
      "5 rows affected.\n"
     ]
    },
    {
     "data": {
      "text/html": [
       "<table>\n",
       "    <tr>\n",
       "        <th>description</th>\n",
       "        <th>count</th>\n",
       "    </tr>\n",
       "    <tr>\n",
       "        <td>Invest Cont</td>\n",
       "        <td>1227180</td>\n",
       "    </tr>\n",
       "    <tr>\n",
       "        <td>Adult Other</td>\n",
       "        <td>178175</td>\n",
       "    </tr>\n",
       "    <tr>\n",
       "        <td>Adult Arrest</td>\n",
       "        <td>162424</td>\n",
       "    </tr>\n",
       "    <tr>\n",
       "        <td>Juv Arrest</td>\n",
       "        <td>12619</td>\n",
       "    </tr>\n",
       "    <tr>\n",
       "        <td>Juv Other</td>\n",
       "        <td>3889</td>\n",
       "    </tr>\n",
       "</table>"
      ],
      "text/plain": [
       "[('Invest Cont', 1227180),\n",
       " ('Adult Other', 178175),\n",
       " ('Adult Arrest', 162424),\n",
       " ('Juv Arrest', 12619),\n",
       " ('Juv Other', 3889)]"
      ]
     },
     "execution_count": 87,
     "metadata": {},
     "output_type": "execute_result"
    }
   ],
   "source": [
    "%%sql\n",
    "SELECT DISTINCT description, count (*)\n",
    "FROM status JOIN crime_facts\n",
    "ON status.status_key = crime_facts.status_key\n",
    "WHERE description IS NOT NULL\n",
    "GROUP BY description\n",
    "ORDER BY count DESC\n",
    "LIMIT 5"
   ]
  },
  {
   "cell_type": "code",
   "execution_count": 88,
   "metadata": {},
   "outputs": [
    {
     "name": "stdout",
     "output_type": "stream",
     "text": [
      " * postgresql://student@/project4\n",
      "5 rows affected.\n",
      "Returning data to local variable status\n"
     ]
    }
   ],
   "source": [
    "%%sql\n",
    "status << SELECT DISTINCT description, count (*)\n",
    "FROM status JOIN crime_facts\n",
    "ON status.status_key = crime_facts.status_key\n",
    "WHERE description IS NOT NULL\n",
    "GROUP BY description\n",
    "ORDER BY count DESC\n",
    "LIMIT 5"
   ]
  },
  {
   "cell_type": "code",
   "execution_count": 89,
   "metadata": {},
   "outputs": [
    {
     "data": {
      "text/plain": [
       "<BarContainer object of 5 artists>"
      ]
     },
     "execution_count": 89,
     "metadata": {},
     "output_type": "execute_result"
    },
    {
     "data": {
      "image/png": "[encoded data removed]",
      "text/plain": [
       "<Figure size 432x288 with 1 Axes>"
      ]
     },
     "metadata": {
      "needs_background": "light"
     },
     "output_type": "display_data"
    }
   ],
   "source": [
    "status.bar(color = ('#657271','#71a994','#71a994','#71a994','#71a994'))"
   ]
  },
  {
   "cell_type": "markdown",
   "metadata": {},
   "source": [
    "#### 7) the timing between date_reported and date_occurred also showing some funny facts"
   ]
  },
  {
   "cell_type": "code",
   "execution_count": 90,
   "metadata": {},
   "outputs": [
    {
     "name": "stdout",
     "output_type": "stream",
     "text": [
      " * postgresql://student@/project4\n",
      "10 rows affected.\n"
     ]
    },
    {
     "data": {
      "text/html": [
       "<table>\n",
       "    <tr>\n",
       "        <th>datedifference</th>\n",
       "        <th>count</th>\n",
       "    </tr>\n",
       "    <tr>\n",
       "        <td>0</td>\n",
       "        <td>724705</td>\n",
       "    </tr>\n",
       "    <tr>\n",
       "        <td>1</td>\n",
       "        <td>410167</td>\n",
       "    </tr>\n",
       "    <tr>\n",
       "        <td>2</td>\n",
       "        <td>97078</td>\n",
       "    </tr>\n",
       "    <tr>\n",
       "        <td>3</td>\n",
       "        <td>52594</td>\n",
       "    </tr>\n",
       "    <tr>\n",
       "        <td>4</td>\n",
       "        <td>32608</td>\n",
       "    </tr>\n",
       "    <tr>\n",
       "        <td>5</td>\n",
       "        <td>23096</td>\n",
       "    </tr>\n",
       "    <tr>\n",
       "        <td>6</td>\n",
       "        <td>17624</td>\n",
       "    </tr>\n",
       "    <tr>\n",
       "        <td>7</td>\n",
       "        <td>16470</td>\n",
       "    </tr>\n",
       "    <tr>\n",
       "        <td>8</td>\n",
       "        <td>11780</td>\n",
       "    </tr>\n",
       "    <tr>\n",
       "        <td>9</td>\n",
       "        <td>9443</td>\n",
       "    </tr>\n",
       "</table>"
      ],
      "text/plain": [
       "[(0, 724705),\n",
       " (1, 410167),\n",
       " (2, 97078),\n",
       " (3, 52594),\n",
       " (4, 32608),\n",
       " (5, 23096),\n",
       " (6, 17624),\n",
       " (7, 16470),\n",
       " (8, 11780),\n",
       " (9, 9443)]"
      ]
     },
     "execution_count": 90,
     "metadata": {},
     "output_type": "execute_result"
    }
   ],
   "source": [
    "%%sql\n",
    "\n",
    "SELECT (date_reported- date_occurred) AS datedifference,count(*)\n",
    "FROM crime_facts\n",
    "GROUP BY datedifference\n",
    "ORDER BY count DESC\n",
    "LIMIT 10;"
   ]
  },
  {
   "cell_type": "code",
   "execution_count": 91,
   "metadata": {},
   "outputs": [
    {
     "name": "stdout",
     "output_type": "stream",
     "text": [
      " * postgresql://student@/project4\n",
      "10 rows affected.\n",
      "Returning data to local variable datediff\n"
     ]
    }
   ],
   "source": [
    "%%sql\n",
    "\n",
    "datediff << SELECT (date_reported- date_occurred) AS datedifference,count(*)\n",
    "FROM crime_facts\n",
    "GROUP BY datedifference\n",
    "ORDER BY count DESC\n",
    "LIMIT 10;"
   ]
  },
  {
   "cell_type": "code",
   "execution_count": 92,
   "metadata": {},
   "outputs": [
    {
     "data": {
      "text/plain": [
       "<BarContainer object of 10 artists>"
      ]
     },
     "execution_count": 92,
     "metadata": {},
     "output_type": "execute_result"
    },
    {
     "data": {
      "image/png": "[encoded data removed]",
      "text/plain": [
       "<Figure size 432x288 with 1 Axes>"
      ]
     },
     "metadata": {
      "needs_background": "light"
     },
     "output_type": "display_data"
    }
   ],
   "source": [
    "datediff.bar(color = ('#070e2c','#27346c','#3c938f','#3c938f','#3c938f','#3c938f','#3c938f','#3c938f','#3c938f','#3c938f'))"
   ]
  },
  {
   "cell_type": "markdown",
   "metadata": {},
   "source": [
    "### PART3b - Cross Analysis"
   ]
  },
  {
   "cell_type": "markdown",
   "metadata": {},
   "source": [
    "#### 1.1) what is the most frequent crimes in the top10 dangerous area?"
   ]
  },
  {
   "cell_type": "code",
   "execution_count": 93,
   "metadata": {},
   "outputs": [
    {
     "name": "stdout",
     "output_type": "stream",
     "text": [
      " * postgresql://student@/project4\n",
      "Done.\n",
      "10 rows affected.\n"
     ]
    },
    {
     "data": {
      "text/plain": [
       "[]"
      ]
     },
     "execution_count": 93,
     "metadata": {},
     "output_type": "execute_result"
    }
   ],
   "source": [
    "%%sql\n",
    "DROP TABLE IF EXISTS location_top10;\n",
    "\n",
    "SELECT DISTINCT name, location.location_key,count (*) INTO location_top10\n",
    "FROM location JOIN crime_facts\n",
    "ON location.location_key = crime_facts.location_key\n",
    "WHERE name IS NOT NULL\n",
    "GROUP BY name,location.location_key\n",
    "ORDER BY count DESC\n",
    "LIMIT 10\n"
   ]
  },
  {
   "cell_type": "code",
   "execution_count": 94,
   "metadata": {},
   "outputs": [
    {
     "name": "stdout",
     "output_type": "stream",
     "text": [
      " * postgresql://student@/project4\n",
      "847279 rows affected.\n"
     ]
    },
    {
     "data": {
      "text/plain": [
       "[]"
      ]
     },
     "execution_count": 94,
     "metadata": {},
     "output_type": "execute_result"
    }
   ],
   "source": [
    "\n",
    "%%sql\n",
    "SELECT crime.description,location_top10.name into location_top10_crime\n",
    "FROM crime \n",
    "JOIN crime_facts\n",
    "ON crime.crime_key = crime_facts.crime_key\n",
    "JOIN location\n",
    "on location.location_key = crime_facts.location_key\n",
    "JOIN location_top10\n",
    "on location.name = location_top10.name\n"
   ]
  },
  {
   "cell_type": "code",
   "execution_count": 95,
   "metadata": {},
   "outputs": [
    {
     "name": "stdout",
     "output_type": "stream",
     "text": [
      " * postgresql://student@/project4\n",
      "10 rows affected.\n"
     ]
    },
    {
     "data": {
      "text/html": [
       "<table>\n",
       "    <tr>\n",
       "        <th>name</th>\n",
       "        <th>description</th>\n",
       "    </tr>\n",
       "    <tr>\n",
       "        <td>77th Street</td>\n",
       "        <td>BATTERY - SIMPLE ASSAULT</td>\n",
       "    </tr>\n",
       "    <tr>\n",
       "        <td>Devonshire</td>\n",
       "        <td>BURGLARY</td>\n",
       "    </tr>\n",
       "    <tr>\n",
       "        <td>Mission</td>\n",
       "        <td>VEHICLE - STOLEN</td>\n",
       "    </tr>\n",
       "    <tr>\n",
       "        <td>Newton</td>\n",
       "        <td>VEHICLE - STOLEN</td>\n",
       "    </tr>\n",
       "    <tr>\n",
       "        <td>N Hollywood</td>\n",
       "        <td>BURGLARY FROM VEHICLE</td>\n",
       "    </tr>\n",
       "    <tr>\n",
       "        <td>Northeast</td>\n",
       "        <td>VEHICLE - STOLEN</td>\n",
       "    </tr>\n",
       "    <tr>\n",
       "        <td>Pacific</td>\n",
       "        <td>THEFT PLAIN - PETTY ($950 &amp; UNDER)</td>\n",
       "    </tr>\n",
       "    <tr>\n",
       "        <td>Southeast</td>\n",
       "        <td>BATTERY - SIMPLE ASSAULT</td>\n",
       "    </tr>\n",
       "    <tr>\n",
       "        <td>Southwest</td>\n",
       "        <td>BATTERY - SIMPLE ASSAULT</td>\n",
       "    </tr>\n",
       "    <tr>\n",
       "        <td>Van Nuys</td>\n",
       "        <td>BURGLARY FROM VEHICLE</td>\n",
       "    </tr>\n",
       "</table>"
      ],
      "text/plain": [
       "[('77th Street', 'BATTERY - SIMPLE ASSAULT'),\n",
       " ('Devonshire', 'BURGLARY'),\n",
       " ('Mission', 'VEHICLE - STOLEN'),\n",
       " ('Newton', 'VEHICLE - STOLEN'),\n",
       " ('N Hollywood', 'BURGLARY FROM VEHICLE'),\n",
       " ('Northeast', 'VEHICLE - STOLEN'),\n",
       " ('Pacific', 'THEFT PLAIN - PETTY ($950 & UNDER)'),\n",
       " ('Southeast', 'BATTERY - SIMPLE ASSAULT'),\n",
       " ('Southwest', 'BATTERY - SIMPLE ASSAULT'),\n",
       " ('Van Nuys', 'BURGLARY FROM VEHICLE')]"
      ]
     },
     "execution_count": 95,
     "metadata": {},
     "output_type": "execute_result"
    }
   ],
   "source": [
    "%%sql\n",
    "SELECT name, description\n",
    "  FROM (SELECT name, description, ROW_NUMBER() OVER (PARTITION BY name ORDER BY freq DESC) AS rn\n",
    "          FROM (  SELECT name, description, COUNT('x') AS freq\n",
    "                    FROM location_top10_crime\n",
    "                GROUP BY 1, 2) crime_freq) ranked_food_req\n",
    " WHERE rn = 1;"
   ]
  },
  {
   "cell_type": "markdown",
   "metadata": {},
   "source": [
    "#### 1.2) what is the most time in the top10 dangerous area?"
   ]
  },
  {
   "cell_type": "code",
   "execution_count": 96,
   "metadata": {},
   "outputs": [
    {
     "name": "stdout",
     "output_type": "stream",
     "text": [
      " * postgresql://student@/project4\n",
      "Done.\n",
      "847279 rows affected.\n"
     ]
    },
    {
     "data": {
      "text/plain": [
       "[]"
      ]
     },
     "execution_count": 96,
     "metadata": {},
     "output_type": "execute_result"
    }
   ],
   "source": [
    "\n",
    "%%sql\n",
    "DROP TABLE IF EXISTS location_top10_time;\n",
    "SELECT time_occurred, location.name into location_top10_time\n",
    "FROM crime_facts\n",
    "JOIN location_top10\n",
    "ON  location_top10.location_key = crime_facts.location_key\n",
    "JOIN location\n",
    "on location.location_key = crime_facts.location_key\n"
   ]
  },
  {
   "cell_type": "code",
   "execution_count": 97,
   "metadata": {},
   "outputs": [
    {
     "name": "stdout",
     "output_type": "stream",
     "text": [
      " * postgresql://student@/project4\n",
      "10 rows affected.\n"
     ]
    },
    {
     "data": {
      "text/html": [
       "<table>\n",
       "    <tr>\n",
       "        <th>name</th>\n",
       "        <th>time_occurred</th>\n",
       "    </tr>\n",
       "    <tr>\n",
       "        <td>77th Street</td>\n",
       "        <td>1200</td>\n",
       "    </tr>\n",
       "    <tr>\n",
       "        <td>Devonshire</td>\n",
       "        <td>1200</td>\n",
       "    </tr>\n",
       "    <tr>\n",
       "        <td>Mission</td>\n",
       "        <td>1200</td>\n",
       "    </tr>\n",
       "    <tr>\n",
       "        <td>Newton</td>\n",
       "        <td>1200</td>\n",
       "    </tr>\n",
       "    <tr>\n",
       "        <td>N Hollywood</td>\n",
       "        <td>1200</td>\n",
       "    </tr>\n",
       "    <tr>\n",
       "        <td>Northeast</td>\n",
       "        <td>1200</td>\n",
       "    </tr>\n",
       "    <tr>\n",
       "        <td>Pacific</td>\n",
       "        <td>1200</td>\n",
       "    </tr>\n",
       "    <tr>\n",
       "        <td>Southeast</td>\n",
       "        <td>1200</td>\n",
       "    </tr>\n",
       "    <tr>\n",
       "        <td>Southwest</td>\n",
       "        <td>1200</td>\n",
       "    </tr>\n",
       "    <tr>\n",
       "        <td>Van Nuys</td>\n",
       "        <td>1200</td>\n",
       "    </tr>\n",
       "</table>"
      ],
      "text/plain": [
       "[('77th Street', '1200'),\n",
       " ('Devonshire', '1200'),\n",
       " ('Mission', '1200'),\n",
       " ('Newton', '1200'),\n",
       " ('N Hollywood', '1200'),\n",
       " ('Northeast', '1200'),\n",
       " ('Pacific', '1200'),\n",
       " ('Southeast', '1200'),\n",
       " ('Southwest', '1200'),\n",
       " ('Van Nuys', '1200')]"
      ]
     },
     "execution_count": 97,
     "metadata": {},
     "output_type": "execute_result"
    }
   ],
   "source": [
    "%%sql\n",
    "SELECT name, time_occurred\n",
    "  FROM (SELECT name, time_occurred, ROW_NUMBER() OVER (PARTITION BY name ORDER BY freq DESC) AS rn\n",
    "          FROM (  SELECT name, time_occurred, COUNT('x') AS freq\n",
    "                    FROM location_top10_time\n",
    "                GROUP BY 1, 2) time_freq) ranked_food_req\n",
    " WHERE rn = 1;"
   ]
  },
  {
   "cell_type": "markdown",
   "metadata": {},
   "source": [
    "#### 2.1) what kind of age are more easily being attacked in male?"
   ]
  },
  {
   "cell_type": "code",
   "execution_count": 98,
   "metadata": {},
   "outputs": [
    {
     "name": "stdout",
     "output_type": "stream",
     "text": [
      " * postgresql://student@/project4\n",
      "10 rows affected.\n"
     ]
    },
    {
     "data": {
      "text/html": [
       "<table>\n",
       "    <tr>\n",
       "        <th>age</th>\n",
       "        <th>count</th>\n",
       "        <th>sex</th>\n",
       "    </tr>\n",
       "    <tr>\n",
       "        <td>25.0</td>\n",
       "        <td>16530</td>\n",
       "        <td>M</td>\n",
       "    </tr>\n",
       "    <tr>\n",
       "        <td>29.0</td>\n",
       "        <td>16357</td>\n",
       "        <td>M</td>\n",
       "    </tr>\n",
       "    <tr>\n",
       "        <td>26.0</td>\n",
       "        <td>16243</td>\n",
       "        <td>M</td>\n",
       "    </tr>\n",
       "    <tr>\n",
       "        <td>28.0</td>\n",
       "        <td>16220</td>\n",
       "        <td>M</td>\n",
       "    </tr>\n",
       "    <tr>\n",
       "        <td>27.0</td>\n",
       "        <td>16183</td>\n",
       "        <td>M</td>\n",
       "    </tr>\n",
       "    <tr>\n",
       "        <td>30.0</td>\n",
       "        <td>16103</td>\n",
       "        <td>M</td>\n",
       "    </tr>\n",
       "    <tr>\n",
       "        <td>24.0</td>\n",
       "        <td>15852</td>\n",
       "        <td>M</td>\n",
       "    </tr>\n",
       "    <tr>\n",
       "        <td>35.0</td>\n",
       "        <td>15724</td>\n",
       "        <td>M</td>\n",
       "    </tr>\n",
       "    <tr>\n",
       "        <td>23.0</td>\n",
       "        <td>15300</td>\n",
       "        <td>M</td>\n",
       "    </tr>\n",
       "    <tr>\n",
       "        <td>32.0</td>\n",
       "        <td>15254</td>\n",
       "        <td>M</td>\n",
       "    </tr>\n",
       "</table>"
      ],
      "text/plain": [
       "[(25.0, 16530, 'M'),\n",
       " (29.0, 16357, 'M'),\n",
       " (26.0, 16243, 'M'),\n",
       " (28.0, 16220, 'M'),\n",
       " (27.0, 16183, 'M'),\n",
       " (30.0, 16103, 'M'),\n",
       " (24.0, 15852, 'M'),\n",
       " (35.0, 15724, 'M'),\n",
       " (23.0, 15300, 'M'),\n",
       " (32.0, 15254, 'M')]"
      ]
     },
     "execution_count": 98,
     "metadata": {},
     "output_type": "execute_result"
    }
   ],
   "source": [
    "%%sql\n",
    "SELECT DISTINCT age, count(age), sex\n",
    "FROM victim\n",
    "JOIN crime_facts\n",
    "ON victim.victim_key = crime_facts.victim_key\n",
    "JOIN crime\n",
    "ON crime_facts.crime_key = crime.crime_key\n",
    "WHERE sex = 'M'\n",
    "AND age != '0'\n",
    "GROUP BY sex, age\n",
    "ORDER BY count(age) DESC\n",
    "LIMIT 10;"
   ]
  },
  {
   "cell_type": "code",
   "execution_count": 99,
   "metadata": {},
   "outputs": [
    {
     "name": "stdout",
     "output_type": "stream",
     "text": [
      " * postgresql://student@/project4\n",
      "10 rows affected.\n",
      "Returning data to local variable sexm\n"
     ]
    }
   ],
   "source": [
    "%%sql\n",
    "sexm << SELECT DISTINCT age, count(age), sex\n",
    "FROM victim\n",
    "JOIN crime_facts\n",
    "ON victim.victim_key = crime_facts.victim_key\n",
    "JOIN crime\n",
    "ON crime_facts.crime_key = crime.crime_key\n",
    "WHERE sex = 'M'\n",
    "AND age != '0'\n",
    "GROUP BY sex, age\n",
    "ORDER BY count(age) DESC\n",
    "LIMIT 10;"
   ]
  },
  {
   "cell_type": "code",
   "execution_count": 100,
   "metadata": {},
   "outputs": [
    {
     "data": {
      "text/plain": [
       "<BarContainer object of 10 artists>"
      ]
     },
     "execution_count": 100,
     "metadata": {},
     "output_type": "execute_result"
    },
    {
     "data": {
      "image/png": "[encoded data removed]",
      "text/plain": [
       "<Figure size 432x288 with 1 Axes>"
      ]
     },
     "metadata": {
      "needs_background": "light"
     },
     "output_type": "display_data"
    }
   ],
   "source": [
    "sexm.bar()"
   ]
  },
  {
   "cell_type": "markdown",
   "metadata": {},
   "source": [
    "#### 2.1) what kind of age are more easily being attacked in female?"
   ]
  },
  {
   "cell_type": "code",
   "execution_count": 101,
   "metadata": {},
   "outputs": [
    {
     "name": "stdout",
     "output_type": "stream",
     "text": [
      " * postgresql://student@/project4\n",
      "10 rows affected.\n"
     ]
    },
    {
     "data": {
      "text/html": [
       "<table>\n",
       "    <tr>\n",
       "        <th>age</th>\n",
       "        <th>count</th>\n",
       "        <th>sex</th>\n",
       "    </tr>\n",
       "    <tr>\n",
       "        <td>25.0</td>\n",
       "        <td>20402</td>\n",
       "        <td>F</td>\n",
       "    </tr>\n",
       "    <tr>\n",
       "        <td>24.0</td>\n",
       "        <td>20231</td>\n",
       "        <td>F</td>\n",
       "    </tr>\n",
       "    <tr>\n",
       "        <td>23.0</td>\n",
       "        <td>19823</td>\n",
       "        <td>F</td>\n",
       "    </tr>\n",
       "    <tr>\n",
       "        <td>26.0</td>\n",
       "        <td>19433</td>\n",
       "        <td>F</td>\n",
       "    </tr>\n",
       "    <tr>\n",
       "        <td>27.0</td>\n",
       "        <td>18905</td>\n",
       "        <td>F</td>\n",
       "    </tr>\n",
       "    <tr>\n",
       "        <td>22.0</td>\n",
       "        <td>18597</td>\n",
       "        <td>F</td>\n",
       "    </tr>\n",
       "    <tr>\n",
       "        <td>28.0</td>\n",
       "        <td>18288</td>\n",
       "        <td>F</td>\n",
       "    </tr>\n",
       "    <tr>\n",
       "        <td>29.0</td>\n",
       "        <td>17954</td>\n",
       "        <td>F</td>\n",
       "    </tr>\n",
       "    <tr>\n",
       "        <td>30.0</td>\n",
       "        <td>17572</td>\n",
       "        <td>F</td>\n",
       "    </tr>\n",
       "    <tr>\n",
       "        <td>21.0</td>\n",
       "        <td>17158</td>\n",
       "        <td>F</td>\n",
       "    </tr>\n",
       "</table>"
      ],
      "text/plain": [
       "[(25.0, 20402, 'F'),\n",
       " (24.0, 20231, 'F'),\n",
       " (23.0, 19823, 'F'),\n",
       " (26.0, 19433, 'F'),\n",
       " (27.0, 18905, 'F'),\n",
       " (22.0, 18597, 'F'),\n",
       " (28.0, 18288, 'F'),\n",
       " (29.0, 17954, 'F'),\n",
       " (30.0, 17572, 'F'),\n",
       " (21.0, 17158, 'F')]"
      ]
     },
     "execution_count": 101,
     "metadata": {},
     "output_type": "execute_result"
    }
   ],
   "source": [
    "%%sql\n",
    "SELECT DISTINCT age, count(age), sex\n",
    "FROM victim\n",
    "JOIN crime_facts\n",
    "ON victim.victim_key = crime_facts.victim_key\n",
    "JOIN crime\n",
    "ON crime_facts.crime_key = crime.crime_key\n",
    "WHERE sex = 'F'\n",
    "AND age != '0'\n",
    "GROUP BY sex, age\n",
    "ORDER BY count(age) DESC\n",
    "LIMIT 10;"
   ]
  },
  {
   "cell_type": "code",
   "execution_count": 102,
   "metadata": {},
   "outputs": [
    {
     "name": "stdout",
     "output_type": "stream",
     "text": [
      " * postgresql://student@/project4\n",
      "10 rows affected.\n"
     ]
    },
    {
     "data": {
      "text/html": [
       "<table>\n",
       "    <tr>\n",
       "        <th>age</th>\n",
       "        <th>count</th>\n",
       "        <th>sex</th>\n",
       "    </tr>\n",
       "    <tr>\n",
       "        <td>25.0</td>\n",
       "        <td>20402</td>\n",
       "        <td>F</td>\n",
       "    </tr>\n",
       "    <tr>\n",
       "        <td>24.0</td>\n",
       "        <td>20231</td>\n",
       "        <td>F</td>\n",
       "    </tr>\n",
       "    <tr>\n",
       "        <td>23.0</td>\n",
       "        <td>19823</td>\n",
       "        <td>F</td>\n",
       "    </tr>\n",
       "    <tr>\n",
       "        <td>26.0</td>\n",
       "        <td>19433</td>\n",
       "        <td>F</td>\n",
       "    </tr>\n",
       "    <tr>\n",
       "        <td>27.0</td>\n",
       "        <td>18905</td>\n",
       "        <td>F</td>\n",
       "    </tr>\n",
       "    <tr>\n",
       "        <td>22.0</td>\n",
       "        <td>18597</td>\n",
       "        <td>F</td>\n",
       "    </tr>\n",
       "    <tr>\n",
       "        <td>28.0</td>\n",
       "        <td>18288</td>\n",
       "        <td>F</td>\n",
       "    </tr>\n",
       "    <tr>\n",
       "        <td>29.0</td>\n",
       "        <td>17954</td>\n",
       "        <td>F</td>\n",
       "    </tr>\n",
       "    <tr>\n",
       "        <td>30.0</td>\n",
       "        <td>17572</td>\n",
       "        <td>F</td>\n",
       "    </tr>\n",
       "    <tr>\n",
       "        <td>21.0</td>\n",
       "        <td>17158</td>\n",
       "        <td>F</td>\n",
       "    </tr>\n",
       "</table>"
      ],
      "text/plain": [
       "[(25.0, 20402, 'F'),\n",
       " (24.0, 20231, 'F'),\n",
       " (23.0, 19823, 'F'),\n",
       " (26.0, 19433, 'F'),\n",
       " (27.0, 18905, 'F'),\n",
       " (22.0, 18597, 'F'),\n",
       " (28.0, 18288, 'F'),\n",
       " (29.0, 17954, 'F'),\n",
       " (30.0, 17572, 'F'),\n",
       " (21.0, 17158, 'F')]"
      ]
     },
     "execution_count": 102,
     "metadata": {},
     "output_type": "execute_result"
    }
   ],
   "source": [
    "%%sql\n",
    "SELECT DISTINCT age, count(age), sex\n",
    "FROM victim\n",
    "JOIN crime_facts\n",
    "ON victim.victim_key = crime_facts.victim_key\n",
    "JOIN crime\n",
    "ON crime_facts.crime_key = crime.crime_key\n",
    "WHERE sex = 'F'\n",
    "AND age != '0'\n",
    "GROUP BY sex, age\n",
    "ORDER BY count(age) DESC\n",
    "LIMIT 10;"
   ]
  },
  {
   "cell_type": "code",
   "execution_count": 103,
   "metadata": {},
   "outputs": [
    {
     "name": "stdout",
     "output_type": "stream",
     "text": [
      " * postgresql://student@/project4\n",
      "10 rows affected.\n",
      "Returning data to local variable sexf\n"
     ]
    }
   ],
   "source": [
    "%%sql\n",
    "sexf << SELECT DISTINCT age, count(age), sex\n",
    "FROM victim\n",
    "JOIN crime_facts\n",
    "ON victim.victim_key = crime_facts.victim_key\n",
    "JOIN crime\n",
    "ON crime_facts.crime_key = crime.crime_key\n",
    "WHERE sex = 'F'\n",
    "AND age != '0'\n",
    "GROUP BY sex, age\n",
    "ORDER BY count(age) DESC\n",
    "LIMIT 10;"
   ]
  },
  {
   "cell_type": "code",
   "execution_count": 104,
   "metadata": {},
   "outputs": [
    {
     "data": {
      "text/plain": [
       "<BarContainer object of 10 artists>"
      ]
     },
     "execution_count": 104,
     "metadata": {},
     "output_type": "execute_result"
    },
    {
     "data": {
      "image/png": "[encoded data removed]",
      "text/plain": [
       "<Figure size 432x288 with 1 Axes>"
      ]
     },
     "metadata": {
      "needs_background": "light"
     },
     "output_type": "display_data"
    }
   ],
   "source": [
    "sexf.bar()"
   ]
  }
 ],
 "metadata": {
  "kernelspec": {
   "display_name": "Python 3",
   "language": "python",
   "name": "python3"
  },
  "language_info": {
   "codemirror_mode": {
    "name": "ipython",
    "version": 3
   },
   "file_extension": ".py",
   "mimetype": "text/x-python",
   "name": "python",
   "nbconvert_exporter": "python",
   "pygments_lexer": "ipython3",
   "version": "3.5.3"
  }
 },
 "nbformat": 4,
 "nbformat_minor": 2
}
